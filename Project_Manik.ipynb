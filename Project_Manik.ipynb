{
 "cells": [
  {
   "cell_type": "code",
   "execution_count": 53,
   "metadata": {},
   "outputs": [],
   "source": [
    "#%pip install pandas"
   ]
  },
  {
   "cell_type": "code",
   "execution_count": 54,
   "metadata": {},
   "outputs": [],
   "source": [
    "#%pip install imblearn"
   ]
  },
  {
   "cell_type": "code",
   "execution_count": 55,
   "metadata": {},
   "outputs": [],
   "source": [
    "import pandas as pd\n",
    "import numpy as np "
   ]
  },
  {
   "cell_type": "code",
   "execution_count": 56,
   "metadata": {},
   "outputs": [],
   "source": [
    "df = pd.read_csv(\"OriginalData.csv\") "
   ]
  },
  {
   "cell_type": "markdown",
   "metadata": {},
   "source": [
    "# Preprocessing"
   ]
  },
  {
   "cell_type": "code",
   "execution_count": 57,
   "metadata": {},
   "outputs": [
    {
     "data": {
      "text/html": [
       "<div>\n",
       "<style scoped>\n",
       "    .dataframe tbody tr th:only-of-type {\n",
       "        vertical-align: middle;\n",
       "    }\n",
       "\n",
       "    .dataframe tbody tr th {\n",
       "        vertical-align: top;\n",
       "    }\n",
       "\n",
       "    .dataframe thead th {\n",
       "        text-align: right;\n",
       "    }\n",
       "</style>\n",
       "<table border=\"1\" class=\"dataframe\">\n",
       "  <thead>\n",
       "    <tr style=\"text-align: right;\">\n",
       "      <th></th>\n",
       "      <th>AppointmentID</th>\n",
       "      <th>PatientID</th>\n",
       "      <th>ClinicNM</th>\n",
       "      <th>AppointmentDTS</th>\n",
       "      <th>AppointmentMonthNBR</th>\n",
       "      <th>AppointmentWeekdayNBR</th>\n",
       "      <th>AppointmentHourNBR</th>\n",
       "      <th>AgeNBR</th>\n",
       "      <th>SexFLG</th>\n",
       "      <th>HispanicFLG</th>\n",
       "      <th>...</th>\n",
       "      <th>AppttoCheckoutNBR</th>\n",
       "      <th>CheckintoApptNBR</th>\n",
       "      <th>Arrived24NBR</th>\n",
       "      <th>Providers24CNT</th>\n",
       "      <th>ThatProvider24NBR</th>\n",
       "      <th>NoshowRate24NBR</th>\n",
       "      <th>EdVisitsNBR</th>\n",
       "      <th>IpVisitsNBR</th>\n",
       "      <th>NoShowFLG</th>\n",
       "      <th>CancelledLateFLG</th>\n",
       "    </tr>\n",
       "  </thead>\n",
       "  <tbody>\n",
       "    <tr>\n",
       "      <th>0</th>\n",
       "      <td>21725</td>\n",
       "      <td>1</td>\n",
       "      <td>E</td>\n",
       "      <td>4/10/18</td>\n",
       "      <td>4</td>\n",
       "      <td>3</td>\n",
       "      <td>17</td>\n",
       "      <td>50</td>\n",
       "      <td>F</td>\n",
       "      <td>0</td>\n",
       "      <td>...</td>\n",
       "      <td>50.0</td>\n",
       "      <td>-1.0</td>\n",
       "      <td>2.0</td>\n",
       "      <td>2.0</td>\n",
       "      <td>0.0</td>\n",
       "      <td>0.0</td>\n",
       "      <td>0</td>\n",
       "      <td>0</td>\n",
       "      <td>1</td>\n",
       "      <td>0</td>\n",
       "    </tr>\n",
       "    <tr>\n",
       "      <th>1</th>\n",
       "      <td>11206</td>\n",
       "      <td>2</td>\n",
       "      <td>A</td>\n",
       "      <td>2/7/18</td>\n",
       "      <td>2</td>\n",
       "      <td>4</td>\n",
       "      <td>10</td>\n",
       "      <td>80</td>\n",
       "      <td>M</td>\n",
       "      <td>0</td>\n",
       "      <td>...</td>\n",
       "      <td>49.0</td>\n",
       "      <td>1.0</td>\n",
       "      <td>2.0</td>\n",
       "      <td>1.0</td>\n",
       "      <td>5.0</td>\n",
       "      <td>0.0</td>\n",
       "      <td>0</td>\n",
       "      <td>0</td>\n",
       "      <td>0</td>\n",
       "      <td>1</td>\n",
       "    </tr>\n",
       "    <tr>\n",
       "      <th>2</th>\n",
       "      <td>12548</td>\n",
       "      <td>2</td>\n",
       "      <td>A</td>\n",
       "      <td>2/8/18</td>\n",
       "      <td>2</td>\n",
       "      <td>5</td>\n",
       "      <td>16</td>\n",
       "      <td>80</td>\n",
       "      <td>M</td>\n",
       "      <td>0</td>\n",
       "      <td>...</td>\n",
       "      <td>49.0</td>\n",
       "      <td>1.0</td>\n",
       "      <td>2.0</td>\n",
       "      <td>1.0</td>\n",
       "      <td>6.0</td>\n",
       "      <td>0.0</td>\n",
       "      <td>0</td>\n",
       "      <td>0</td>\n",
       "      <td>0</td>\n",
       "      <td>0</td>\n",
       "    </tr>\n",
       "    <tr>\n",
       "      <th>3</th>\n",
       "      <td>12727</td>\n",
       "      <td>2</td>\n",
       "      <td>A</td>\n",
       "      <td>3/8/18</td>\n",
       "      <td>3</td>\n",
       "      <td>5</td>\n",
       "      <td>15</td>\n",
       "      <td>80</td>\n",
       "      <td>M</td>\n",
       "      <td>0</td>\n",
       "      <td>...</td>\n",
       "      <td>48.0</td>\n",
       "      <td>7.0</td>\n",
       "      <td>3.0</td>\n",
       "      <td>1.0</td>\n",
       "      <td>8.0</td>\n",
       "      <td>0.0</td>\n",
       "      <td>0</td>\n",
       "      <td>0</td>\n",
       "      <td>0</td>\n",
       "      <td>0</td>\n",
       "    </tr>\n",
       "    <tr>\n",
       "      <th>4</th>\n",
       "      <td>86882</td>\n",
       "      <td>2</td>\n",
       "      <td>A</td>\n",
       "      <td>11/9/18</td>\n",
       "      <td>11</td>\n",
       "      <td>6</td>\n",
       "      <td>16</td>\n",
       "      <td>80</td>\n",
       "      <td>M</td>\n",
       "      <td>0</td>\n",
       "      <td>...</td>\n",
       "      <td>47.0</td>\n",
       "      <td>13.0</td>\n",
       "      <td>3.0</td>\n",
       "      <td>1.0</td>\n",
       "      <td>13.0</td>\n",
       "      <td>0.0</td>\n",
       "      <td>0</td>\n",
       "      <td>0</td>\n",
       "      <td>0</td>\n",
       "      <td>0</td>\n",
       "    </tr>\n",
       "  </tbody>\n",
       "</table>\n",
       "<p>5 rows × 34 columns</p>\n",
       "</div>"
      ],
      "text/plain": [
       "   AppointmentID  PatientID ClinicNM AppointmentDTS  AppointmentMonthNBR  \\\n",
       "0          21725          1        E        4/10/18                    4   \n",
       "1          11206          2        A         2/7/18                    2   \n",
       "2          12548          2        A         2/8/18                    2   \n",
       "3          12727          2        A         3/8/18                    3   \n",
       "4          86882          2        A        11/9/18                   11   \n",
       "\n",
       "   AppointmentWeekdayNBR  AppointmentHourNBR  AgeNBR SexFLG  HispanicFLG  ...  \\\n",
       "0                      3                  17      50      F            0  ...   \n",
       "1                      4                  10      80      M            0  ...   \n",
       "2                      5                  16      80      M            0  ...   \n",
       "3                      5                  15      80      M            0  ...   \n",
       "4                      6                  16      80      M            0  ...   \n",
       "\n",
       "   AppttoCheckoutNBR  CheckintoApptNBR  Arrived24NBR  Providers24CNT  \\\n",
       "0               50.0              -1.0           2.0             2.0   \n",
       "1               49.0               1.0           2.0             1.0   \n",
       "2               49.0               1.0           2.0             1.0   \n",
       "3               48.0               7.0           3.0             1.0   \n",
       "4               47.0              13.0           3.0             1.0   \n",
       "\n",
       "  ThatProvider24NBR  NoshowRate24NBR  EdVisitsNBR  IpVisitsNBR  NoShowFLG  \\\n",
       "0               0.0              0.0            0            0          1   \n",
       "1               5.0              0.0            0            0          0   \n",
       "2               6.0              0.0            0            0          0   \n",
       "3               8.0              0.0            0            0          0   \n",
       "4              13.0              0.0            0            0          0   \n",
       "\n",
       "   CancelledLateFLG  \n",
       "0                 0  \n",
       "1                 1  \n",
       "2                 0  \n",
       "3                 0  \n",
       "4                 0  \n",
       "\n",
       "[5 rows x 34 columns]"
      ]
     },
     "execution_count": 57,
     "metadata": {},
     "output_type": "execute_result"
    }
   ],
   "source": [
    "df.head()"
   ]
  },
  {
   "cell_type": "code",
   "execution_count": 58,
   "metadata": {},
   "outputs": [
    {
     "data": {
      "text/html": [
       "<div>\n",
       "<style scoped>\n",
       "    .dataframe tbody tr th:only-of-type {\n",
       "        vertical-align: middle;\n",
       "    }\n",
       "\n",
       "    .dataframe tbody tr th {\n",
       "        vertical-align: top;\n",
       "    }\n",
       "\n",
       "    .dataframe thead th {\n",
       "        text-align: right;\n",
       "    }\n",
       "</style>\n",
       "<table border=\"1\" class=\"dataframe\">\n",
       "  <thead>\n",
       "    <tr style=\"text-align: right;\">\n",
       "      <th></th>\n",
       "      <th>AppointmentID</th>\n",
       "      <th>PatientID</th>\n",
       "      <th>AppointmentMonthNBR</th>\n",
       "      <th>AppointmentWeekdayNBR</th>\n",
       "      <th>AppointmentHourNBR</th>\n",
       "      <th>AgeNBR</th>\n",
       "      <th>HispanicFLG</th>\n",
       "      <th>SingleFLG</th>\n",
       "      <th>LivesInApartmentFLG</th>\n",
       "      <th>EmailFLG</th>\n",
       "      <th>...</th>\n",
       "      <th>AppttoCheckoutNBR</th>\n",
       "      <th>CheckintoApptNBR</th>\n",
       "      <th>Arrived24NBR</th>\n",
       "      <th>Providers24CNT</th>\n",
       "      <th>ThatProvider24NBR</th>\n",
       "      <th>NoshowRate24NBR</th>\n",
       "      <th>EdVisitsNBR</th>\n",
       "      <th>IpVisitsNBR</th>\n",
       "      <th>NoShowFLG</th>\n",
       "      <th>CancelledLateFLG</th>\n",
       "    </tr>\n",
       "  </thead>\n",
       "  <tbody>\n",
       "    <tr>\n",
       "      <th>count</th>\n",
       "      <td>95221.000000</td>\n",
       "      <td>95221.000000</td>\n",
       "      <td>95221.000000</td>\n",
       "      <td>95221.000000</td>\n",
       "      <td>95221.000000</td>\n",
       "      <td>95221.000000</td>\n",
       "      <td>95221.000000</td>\n",
       "      <td>95221.000000</td>\n",
       "      <td>95221.000000</td>\n",
       "      <td>95221.000000</td>\n",
       "      <td>...</td>\n",
       "      <td>88456.000000</td>\n",
       "      <td>91105.000000</td>\n",
       "      <td>93605.000000</td>\n",
       "      <td>93605.000000</td>\n",
       "      <td>93605.000000</td>\n",
       "      <td>93605.000000</td>\n",
       "      <td>95221.000000</td>\n",
       "      <td>95221.000000</td>\n",
       "      <td>95221.000000</td>\n",
       "      <td>95221.000000</td>\n",
       "    </tr>\n",
       "    <tr>\n",
       "      <th>mean</th>\n",
       "      <td>47611.000000</td>\n",
       "      <td>16752.134582</td>\n",
       "      <td>6.561452</td>\n",
       "      <td>3.988101</td>\n",
       "      <td>12.011353</td>\n",
       "      <td>44.532792</td>\n",
       "      <td>0.129520</td>\n",
       "      <td>0.553649</td>\n",
       "      <td>0.196343</td>\n",
       "      <td>0.490522</td>\n",
       "      <td>...</td>\n",
       "      <td>42.321787</td>\n",
       "      <td>6.913781</td>\n",
       "      <td>13.982789</td>\n",
       "      <td>6.281652</td>\n",
       "      <td>15.921564</td>\n",
       "      <td>0.071268</td>\n",
       "      <td>0.649426</td>\n",
       "      <td>0.021109</td>\n",
       "      <td>0.095630</td>\n",
       "      <td>0.159849</td>\n",
       "    </tr>\n",
       "    <tr>\n",
       "      <th>std</th>\n",
       "      <td>27488.079328</td>\n",
       "      <td>9649.346171</td>\n",
       "      <td>3.344395</td>\n",
       "      <td>1.391333</td>\n",
       "      <td>2.769707</td>\n",
       "      <td>22.984130</td>\n",
       "      <td>0.335776</td>\n",
       "      <td>0.497116</td>\n",
       "      <td>0.397233</td>\n",
       "      <td>0.499913</td>\n",
       "      <td>...</td>\n",
       "      <td>72.892606</td>\n",
       "      <td>21.241061</td>\n",
       "      <td>16.276161</td>\n",
       "      <td>5.572236</td>\n",
       "      <td>25.227483</td>\n",
       "      <td>0.131601</td>\n",
       "      <td>2.271323</td>\n",
       "      <td>0.172018</td>\n",
       "      <td>0.294085</td>\n",
       "      <td>0.366468</td>\n",
       "    </tr>\n",
       "    <tr>\n",
       "      <th>min</th>\n",
       "      <td>1.000000</td>\n",
       "      <td>1.000000</td>\n",
       "      <td>1.000000</td>\n",
       "      <td>1.000000</td>\n",
       "      <td>7.000000</td>\n",
       "      <td>0.000000</td>\n",
       "      <td>0.000000</td>\n",
       "      <td>0.000000</td>\n",
       "      <td>0.000000</td>\n",
       "      <td>0.000000</td>\n",
       "      <td>...</td>\n",
       "      <td>-933.000000</td>\n",
       "      <td>-958.000000</td>\n",
       "      <td>0.000000</td>\n",
       "      <td>0.000000</td>\n",
       "      <td>0.000000</td>\n",
       "      <td>0.000000</td>\n",
       "      <td>0.000000</td>\n",
       "      <td>0.000000</td>\n",
       "      <td>0.000000</td>\n",
       "      <td>0.000000</td>\n",
       "    </tr>\n",
       "    <tr>\n",
       "      <th>25%</th>\n",
       "      <td>23806.000000</td>\n",
       "      <td>8386.000000</td>\n",
       "      <td>4.000000</td>\n",
       "      <td>3.000000</td>\n",
       "      <td>10.000000</td>\n",
       "      <td>27.000000</td>\n",
       "      <td>0.000000</td>\n",
       "      <td>0.000000</td>\n",
       "      <td>0.000000</td>\n",
       "      <td>0.000000</td>\n",
       "      <td>...</td>\n",
       "      <td>31.000000</td>\n",
       "      <td>2.000000</td>\n",
       "      <td>4.000000</td>\n",
       "      <td>2.000000</td>\n",
       "      <td>0.000000</td>\n",
       "      <td>0.000000</td>\n",
       "      <td>0.000000</td>\n",
       "      <td>0.000000</td>\n",
       "      <td>0.000000</td>\n",
       "      <td>0.000000</td>\n",
       "    </tr>\n",
       "    <tr>\n",
       "      <th>50%</th>\n",
       "      <td>47611.000000</td>\n",
       "      <td>16640.000000</td>\n",
       "      <td>6.000000</td>\n",
       "      <td>4.000000</td>\n",
       "      <td>11.000000</td>\n",
       "      <td>46.000000</td>\n",
       "      <td>0.000000</td>\n",
       "      <td>1.000000</td>\n",
       "      <td>0.000000</td>\n",
       "      <td>0.000000</td>\n",
       "      <td>...</td>\n",
       "      <td>48.000000</td>\n",
       "      <td>7.000000</td>\n",
       "      <td>9.000000</td>\n",
       "      <td>5.000000</td>\n",
       "      <td>6.000000</td>\n",
       "      <td>0.000000</td>\n",
       "      <td>0.000000</td>\n",
       "      <td>0.000000</td>\n",
       "      <td>0.000000</td>\n",
       "      <td>0.000000</td>\n",
       "    </tr>\n",
       "    <tr>\n",
       "      <th>75%</th>\n",
       "      <td>71416.000000</td>\n",
       "      <td>25323.000000</td>\n",
       "      <td>10.000000</td>\n",
       "      <td>5.000000</td>\n",
       "      <td>14.000000</td>\n",
       "      <td>62.000000</td>\n",
       "      <td>0.000000</td>\n",
       "      <td>1.000000</td>\n",
       "      <td>0.000000</td>\n",
       "      <td>1.000000</td>\n",
       "      <td>...</td>\n",
       "      <td>67.000000</td>\n",
       "      <td>13.000000</td>\n",
       "      <td>18.000000</td>\n",
       "      <td>8.000000</td>\n",
       "      <td>21.000000</td>\n",
       "      <td>0.100000</td>\n",
       "      <td>1.000000</td>\n",
       "      <td>0.000000</td>\n",
       "      <td>0.000000</td>\n",
       "      <td>0.000000</td>\n",
       "    </tr>\n",
       "    <tr>\n",
       "      <th>max</th>\n",
       "      <td>95221.000000</td>\n",
       "      <td>33473.000000</td>\n",
       "      <td>12.000000</td>\n",
       "      <td>7.000000</td>\n",
       "      <td>19.000000</td>\n",
       "      <td>118.000000</td>\n",
       "      <td>1.000000</td>\n",
       "      <td>1.000000</td>\n",
       "      <td>1.000000</td>\n",
       "      <td>1.000000</td>\n",
       "      <td>...</td>\n",
       "      <td>768.000000</td>\n",
       "      <td>656.000000</td>\n",
       "      <td>276.000000</td>\n",
       "      <td>57.000000</td>\n",
       "      <td>383.000000</td>\n",
       "      <td>1.000000</td>\n",
       "      <td>155.000000</td>\n",
       "      <td>6.000000</td>\n",
       "      <td>1.000000</td>\n",
       "      <td>1.000000</td>\n",
       "    </tr>\n",
       "  </tbody>\n",
       "</table>\n",
       "<p>8 rows × 30 columns</p>\n",
       "</div>"
      ],
      "text/plain": [
       "       AppointmentID     PatientID  AppointmentMonthNBR  \\\n",
       "count   95221.000000  95221.000000         95221.000000   \n",
       "mean    47611.000000  16752.134582             6.561452   \n",
       "std     27488.079328   9649.346171             3.344395   \n",
       "min         1.000000      1.000000             1.000000   \n",
       "25%     23806.000000   8386.000000             4.000000   \n",
       "50%     47611.000000  16640.000000             6.000000   \n",
       "75%     71416.000000  25323.000000            10.000000   \n",
       "max     95221.000000  33473.000000            12.000000   \n",
       "\n",
       "       AppointmentWeekdayNBR  AppointmentHourNBR        AgeNBR   HispanicFLG  \\\n",
       "count           95221.000000        95221.000000  95221.000000  95221.000000   \n",
       "mean                3.988101           12.011353     44.532792      0.129520   \n",
       "std                 1.391333            2.769707     22.984130      0.335776   \n",
       "min                 1.000000            7.000000      0.000000      0.000000   \n",
       "25%                 3.000000           10.000000     27.000000      0.000000   \n",
       "50%                 4.000000           11.000000     46.000000      0.000000   \n",
       "75%                 5.000000           14.000000     62.000000      0.000000   \n",
       "max                 7.000000           19.000000    118.000000      1.000000   \n",
       "\n",
       "          SingleFLG  LivesInApartmentFLG      EmailFLG  ...  \\\n",
       "count  95221.000000         95221.000000  95221.000000  ...   \n",
       "mean       0.553649             0.196343      0.490522  ...   \n",
       "std        0.497116             0.397233      0.499913  ...   \n",
       "min        0.000000             0.000000      0.000000  ...   \n",
       "25%        0.000000             0.000000      0.000000  ...   \n",
       "50%        1.000000             0.000000      0.000000  ...   \n",
       "75%        1.000000             0.000000      1.000000  ...   \n",
       "max        1.000000             1.000000      1.000000  ...   \n",
       "\n",
       "       AppttoCheckoutNBR  CheckintoApptNBR  Arrived24NBR  Providers24CNT  \\\n",
       "count       88456.000000      91105.000000  93605.000000    93605.000000   \n",
       "mean           42.321787          6.913781     13.982789        6.281652   \n",
       "std            72.892606         21.241061     16.276161        5.572236   \n",
       "min          -933.000000       -958.000000      0.000000        0.000000   \n",
       "25%            31.000000          2.000000      4.000000        2.000000   \n",
       "50%            48.000000          7.000000      9.000000        5.000000   \n",
       "75%            67.000000         13.000000     18.000000        8.000000   \n",
       "max           768.000000        656.000000    276.000000       57.000000   \n",
       "\n",
       "       ThatProvider24NBR  NoshowRate24NBR   EdVisitsNBR   IpVisitsNBR  \\\n",
       "count       93605.000000     93605.000000  95221.000000  95221.000000   \n",
       "mean           15.921564         0.071268      0.649426      0.021109   \n",
       "std            25.227483         0.131601      2.271323      0.172018   \n",
       "min             0.000000         0.000000      0.000000      0.000000   \n",
       "25%             0.000000         0.000000      0.000000      0.000000   \n",
       "50%             6.000000         0.000000      0.000000      0.000000   \n",
       "75%            21.000000         0.100000      1.000000      0.000000   \n",
       "max           383.000000         1.000000    155.000000      6.000000   \n",
       "\n",
       "          NoShowFLG  CancelledLateFLG  \n",
       "count  95221.000000      95221.000000  \n",
       "mean       0.095630          0.159849  \n",
       "std        0.294085          0.366468  \n",
       "min        0.000000          0.000000  \n",
       "25%        0.000000          0.000000  \n",
       "50%        0.000000          0.000000  \n",
       "75%        0.000000          0.000000  \n",
       "max        1.000000          1.000000  \n",
       "\n",
       "[8 rows x 30 columns]"
      ]
     },
     "execution_count": 58,
     "metadata": {},
     "output_type": "execute_result"
    }
   ],
   "source": [
    "df.describe()"
   ]
  },
  {
   "cell_type": "markdown",
   "metadata": {},
   "source": [
    "# Number of unique Patients in the data"
   ]
  },
  {
   "cell_type": "code",
   "execution_count": 59,
   "metadata": {},
   "outputs": [
    {
     "data": {
      "text/plain": [
       "33473"
      ]
     },
     "execution_count": 59,
     "metadata": {},
     "output_type": "execute_result"
    }
   ],
   "source": [
    "df['PatientID'].nunique()"
   ]
  },
  {
   "cell_type": "code",
   "execution_count": 60,
   "metadata": {},
   "outputs": [
    {
     "data": {
      "text/plain": [
       "AppointmentID               0\n",
       "PatientID                   0\n",
       "ClinicNM                    0\n",
       "AppointmentDTS              0\n",
       "AppointmentMonthNBR         0\n",
       "AppointmentWeekdayNBR       0\n",
       "AppointmentHourNBR          0\n",
       "AgeNBR                      0\n",
       "SexFLG                      0\n",
       "HispanicFLG                 0\n",
       "SingleFLG                   0\n",
       "LivesInApartmentFLG         0\n",
       "EmailFLG                    0\n",
       "ApptLagNBR                  0\n",
       "InsuranceDSC                0\n",
       "HypertensionFLG             0\n",
       "AsthmaFLG                   0\n",
       "HeartDiseaseFLG             0\n",
       "ObeseFLG                    0\n",
       "DiabetesFLG                 0\n",
       "Noshow24NBR              1616\n",
       "CancellationsNBR         1616\n",
       "Latearrivals24NBR        1616\n",
       "CheckintoCheckoutNBR     6765\n",
       "AppttoCheckoutNBR        6765\n",
       "CheckintoApptNBR         4116\n",
       "Arrived24NBR             1616\n",
       "Providers24CNT           1616\n",
       "ThatProvider24NBR        1616\n",
       "NoshowRate24NBR          1616\n",
       "EdVisitsNBR                 0\n",
       "IpVisitsNBR                 0\n",
       "NoShowFLG                   0\n",
       "CancelledLateFLG            0\n",
       "dtype: int64"
      ]
     },
     "execution_count": 60,
     "metadata": {},
     "output_type": "execute_result"
    }
   ],
   "source": [
    "df.isnull().sum()"
   ]
  },
  {
   "cell_type": "code",
   "execution_count": 61,
   "metadata": {},
   "outputs": [],
   "source": [
    "showdf = df[ df['NoShowFLG'] == 0]"
   ]
  },
  {
   "cell_type": "code",
   "execution_count": 62,
   "metadata": {},
   "outputs": [
    {
     "data": {
      "text/plain": [
       "AppointmentID               0\n",
       "PatientID                   0\n",
       "ClinicNM                    0\n",
       "AppointmentDTS              0\n",
       "AppointmentMonthNBR         0\n",
       "AppointmentWeekdayNBR       0\n",
       "AppointmentHourNBR          0\n",
       "AgeNBR                      0\n",
       "SexFLG                      0\n",
       "HispanicFLG                 0\n",
       "SingleFLG                   0\n",
       "LivesInApartmentFLG         0\n",
       "EmailFLG                    0\n",
       "ApptLagNBR                  0\n",
       "InsuranceDSC                0\n",
       "HypertensionFLG             0\n",
       "AsthmaFLG                   0\n",
       "HeartDiseaseFLG             0\n",
       "ObeseFLG                    0\n",
       "DiabetesFLG                 0\n",
       "Noshow24NBR              1376\n",
       "CancellationsNBR         1376\n",
       "Latearrivals24NBR        1376\n",
       "CheckintoCheckoutNBR     5772\n",
       "AppttoCheckoutNBR        5772\n",
       "CheckintoApptNBR         3545\n",
       "Arrived24NBR             1376\n",
       "Providers24CNT           1376\n",
       "ThatProvider24NBR        1376\n",
       "NoshowRate24NBR          1376\n",
       "EdVisitsNBR                 0\n",
       "IpVisitsNBR                 0\n",
       "NoShowFLG                   0\n",
       "CancelledLateFLG            0\n",
       "dtype: int64"
      ]
     },
     "execution_count": 62,
     "metadata": {},
     "output_type": "execute_result"
    }
   ],
   "source": [
    "showdf.isnull().sum()"
   ]
  },
  {
   "cell_type": "code",
   "execution_count": 63,
   "metadata": {},
   "outputs": [],
   "source": [
    "noShowDf = df[df['NoShowFLG']==1]"
   ]
  },
  {
   "cell_type": "code",
   "execution_count": 64,
   "metadata": {},
   "outputs": [
    {
     "data": {
      "text/html": [
       "<div>\n",
       "<style scoped>\n",
       "    .dataframe tbody tr th:only-of-type {\n",
       "        vertical-align: middle;\n",
       "    }\n",
       "\n",
       "    .dataframe tbody tr th {\n",
       "        vertical-align: top;\n",
       "    }\n",
       "\n",
       "    .dataframe thead th {\n",
       "        text-align: right;\n",
       "    }\n",
       "</style>\n",
       "<table border=\"1\" class=\"dataframe\">\n",
       "  <thead>\n",
       "    <tr style=\"text-align: right;\">\n",
       "      <th></th>\n",
       "      <th>AppointmentID</th>\n",
       "      <th>PatientID</th>\n",
       "      <th>AppointmentMonthNBR</th>\n",
       "      <th>AppointmentWeekdayNBR</th>\n",
       "      <th>AppointmentHourNBR</th>\n",
       "      <th>AgeNBR</th>\n",
       "      <th>HispanicFLG</th>\n",
       "      <th>SingleFLG</th>\n",
       "      <th>LivesInApartmentFLG</th>\n",
       "      <th>EmailFLG</th>\n",
       "      <th>...</th>\n",
       "      <th>AppttoCheckoutNBR</th>\n",
       "      <th>CheckintoApptNBR</th>\n",
       "      <th>Arrived24NBR</th>\n",
       "      <th>Providers24CNT</th>\n",
       "      <th>ThatProvider24NBR</th>\n",
       "      <th>NoshowRate24NBR</th>\n",
       "      <th>EdVisitsNBR</th>\n",
       "      <th>IpVisitsNBR</th>\n",
       "      <th>NoShowFLG</th>\n",
       "      <th>CancelledLateFLG</th>\n",
       "    </tr>\n",
       "  </thead>\n",
       "  <tbody>\n",
       "    <tr>\n",
       "      <th>count</th>\n",
       "      <td>80343.000000</td>\n",
       "      <td>80343.000000</td>\n",
       "      <td>80343.000000</td>\n",
       "      <td>80343.000000</td>\n",
       "      <td>80343.000000</td>\n",
       "      <td>80343.000000</td>\n",
       "      <td>80343.000000</td>\n",
       "      <td>80343.000000</td>\n",
       "      <td>80343.000000</td>\n",
       "      <td>80343.000000</td>\n",
       "      <td>...</td>\n",
       "      <td>80343.000000</td>\n",
       "      <td>80343.000000</td>\n",
       "      <td>80343.000000</td>\n",
       "      <td>80343.000000</td>\n",
       "      <td>80343.000000</td>\n",
       "      <td>80343.000000</td>\n",
       "      <td>80343.000000</td>\n",
       "      <td>80343.000000</td>\n",
       "      <td>80343.0</td>\n",
       "      <td>80343.000000</td>\n",
       "    </tr>\n",
       "    <tr>\n",
       "      <th>mean</th>\n",
       "      <td>47484.477739</td>\n",
       "      <td>16278.279576</td>\n",
       "      <td>6.548984</td>\n",
       "      <td>3.986035</td>\n",
       "      <td>11.963818</td>\n",
       "      <td>46.269445</td>\n",
       "      <td>0.116998</td>\n",
       "      <td>0.531509</td>\n",
       "      <td>0.189413</td>\n",
       "      <td>0.513946</td>\n",
       "      <td>...</td>\n",
       "      <td>42.407665</td>\n",
       "      <td>7.087388</td>\n",
       "      <td>14.788208</td>\n",
       "      <td>6.576677</td>\n",
       "      <td>17.267540</td>\n",
       "      <td>0.060591</td>\n",
       "      <td>0.648096</td>\n",
       "      <td>0.021968</td>\n",
       "      <td>0.0</td>\n",
       "      <td>0.175323</td>\n",
       "    </tr>\n",
       "    <tr>\n",
       "      <th>std</th>\n",
       "      <td>27529.684501</td>\n",
       "      <td>9427.043634</td>\n",
       "      <td>3.348095</td>\n",
       "      <td>1.386088</td>\n",
       "      <td>2.765961</td>\n",
       "      <td>22.940206</td>\n",
       "      <td>0.321420</td>\n",
       "      <td>0.499009</td>\n",
       "      <td>0.391839</td>\n",
       "      <td>0.499809</td>\n",
       "      <td>...</td>\n",
       "      <td>71.471632</td>\n",
       "      <td>20.148128</td>\n",
       "      <td>16.454723</td>\n",
       "      <td>5.561190</td>\n",
       "      <td>25.983765</td>\n",
       "      <td>0.108508</td>\n",
       "      <td>2.352977</td>\n",
       "      <td>0.176549</td>\n",
       "      <td>0.0</td>\n",
       "      <td>0.380246</td>\n",
       "    </tr>\n",
       "    <tr>\n",
       "      <th>min</th>\n",
       "      <td>2.000000</td>\n",
       "      <td>2.000000</td>\n",
       "      <td>1.000000</td>\n",
       "      <td>1.000000</td>\n",
       "      <td>7.000000</td>\n",
       "      <td>0.000000</td>\n",
       "      <td>0.000000</td>\n",
       "      <td>0.000000</td>\n",
       "      <td>0.000000</td>\n",
       "      <td>0.000000</td>\n",
       "      <td>...</td>\n",
       "      <td>-933.000000</td>\n",
       "      <td>-958.000000</td>\n",
       "      <td>1.000000</td>\n",
       "      <td>1.000000</td>\n",
       "      <td>0.000000</td>\n",
       "      <td>0.000000</td>\n",
       "      <td>0.000000</td>\n",
       "      <td>0.000000</td>\n",
       "      <td>0.0</td>\n",
       "      <td>0.000000</td>\n",
       "    </tr>\n",
       "    <tr>\n",
       "      <th>25%</th>\n",
       "      <td>23642.500000</td>\n",
       "      <td>8131.000000</td>\n",
       "      <td>4.000000</td>\n",
       "      <td>3.000000</td>\n",
       "      <td>10.000000</td>\n",
       "      <td>29.000000</td>\n",
       "      <td>0.000000</td>\n",
       "      <td>0.000000</td>\n",
       "      <td>0.000000</td>\n",
       "      <td>0.000000</td>\n",
       "      <td>...</td>\n",
       "      <td>31.000000</td>\n",
       "      <td>2.000000</td>\n",
       "      <td>5.000000</td>\n",
       "      <td>3.000000</td>\n",
       "      <td>1.000000</td>\n",
       "      <td>0.000000</td>\n",
       "      <td>0.000000</td>\n",
       "      <td>0.000000</td>\n",
       "      <td>0.0</td>\n",
       "      <td>0.000000</td>\n",
       "    </tr>\n",
       "    <tr>\n",
       "      <th>50%</th>\n",
       "      <td>47345.000000</td>\n",
       "      <td>15963.000000</td>\n",
       "      <td>6.000000</td>\n",
       "      <td>4.000000</td>\n",
       "      <td>11.000000</td>\n",
       "      <td>49.000000</td>\n",
       "      <td>0.000000</td>\n",
       "      <td>1.000000</td>\n",
       "      <td>0.000000</td>\n",
       "      <td>1.000000</td>\n",
       "      <td>...</td>\n",
       "      <td>48.000000</td>\n",
       "      <td>7.000000</td>\n",
       "      <td>9.000000</td>\n",
       "      <td>5.000000</td>\n",
       "      <td>8.000000</td>\n",
       "      <td>0.000000</td>\n",
       "      <td>0.000000</td>\n",
       "      <td>0.000000</td>\n",
       "      <td>0.0</td>\n",
       "      <td>0.000000</td>\n",
       "    </tr>\n",
       "    <tr>\n",
       "      <th>75%</th>\n",
       "      <td>71359.500000</td>\n",
       "      <td>24535.000000</td>\n",
       "      <td>10.000000</td>\n",
       "      <td>5.000000</td>\n",
       "      <td>14.000000</td>\n",
       "      <td>64.000000</td>\n",
       "      <td>0.000000</td>\n",
       "      <td>1.000000</td>\n",
       "      <td>0.000000</td>\n",
       "      <td>1.000000</td>\n",
       "      <td>...</td>\n",
       "      <td>67.000000</td>\n",
       "      <td>13.000000</td>\n",
       "      <td>19.000000</td>\n",
       "      <td>9.000000</td>\n",
       "      <td>23.000000</td>\n",
       "      <td>0.086956</td>\n",
       "      <td>1.000000</td>\n",
       "      <td>0.000000</td>\n",
       "      <td>0.0</td>\n",
       "      <td>0.000000</td>\n",
       "    </tr>\n",
       "    <tr>\n",
       "      <th>max</th>\n",
       "      <td>95221.000000</td>\n",
       "      <td>33473.000000</td>\n",
       "      <td>12.000000</td>\n",
       "      <td>7.000000</td>\n",
       "      <td>19.000000</td>\n",
       "      <td>110.000000</td>\n",
       "      <td>1.000000</td>\n",
       "      <td>1.000000</td>\n",
       "      <td>1.000000</td>\n",
       "      <td>1.000000</td>\n",
       "      <td>...</td>\n",
       "      <td>768.000000</td>\n",
       "      <td>433.000000</td>\n",
       "      <td>276.000000</td>\n",
       "      <td>57.000000</td>\n",
       "      <td>383.000000</td>\n",
       "      <td>0.833333</td>\n",
       "      <td>155.000000</td>\n",
       "      <td>6.000000</td>\n",
       "      <td>0.0</td>\n",
       "      <td>1.000000</td>\n",
       "    </tr>\n",
       "  </tbody>\n",
       "</table>\n",
       "<p>8 rows × 30 columns</p>\n",
       "</div>"
      ],
      "text/plain": [
       "       AppointmentID     PatientID  AppointmentMonthNBR  \\\n",
       "count   80343.000000  80343.000000         80343.000000   \n",
       "mean    47484.477739  16278.279576             6.548984   \n",
       "std     27529.684501   9427.043634             3.348095   \n",
       "min         2.000000      2.000000             1.000000   \n",
       "25%     23642.500000   8131.000000             4.000000   \n",
       "50%     47345.000000  15963.000000             6.000000   \n",
       "75%     71359.500000  24535.000000            10.000000   \n",
       "max     95221.000000  33473.000000            12.000000   \n",
       "\n",
       "       AppointmentWeekdayNBR  AppointmentHourNBR        AgeNBR   HispanicFLG  \\\n",
       "count           80343.000000        80343.000000  80343.000000  80343.000000   \n",
       "mean                3.986035           11.963818     46.269445      0.116998   \n",
       "std                 1.386088            2.765961     22.940206      0.321420   \n",
       "min                 1.000000            7.000000      0.000000      0.000000   \n",
       "25%                 3.000000           10.000000     29.000000      0.000000   \n",
       "50%                 4.000000           11.000000     49.000000      0.000000   \n",
       "75%                 5.000000           14.000000     64.000000      0.000000   \n",
       "max                 7.000000           19.000000    110.000000      1.000000   \n",
       "\n",
       "          SingleFLG  LivesInApartmentFLG      EmailFLG  ...  \\\n",
       "count  80343.000000         80343.000000  80343.000000  ...   \n",
       "mean       0.531509             0.189413      0.513946  ...   \n",
       "std        0.499009             0.391839      0.499809  ...   \n",
       "min        0.000000             0.000000      0.000000  ...   \n",
       "25%        0.000000             0.000000      0.000000  ...   \n",
       "50%        1.000000             0.000000      1.000000  ...   \n",
       "75%        1.000000             0.000000      1.000000  ...   \n",
       "max        1.000000             1.000000      1.000000  ...   \n",
       "\n",
       "       AppttoCheckoutNBR  CheckintoApptNBR  Arrived24NBR  Providers24CNT  \\\n",
       "count       80343.000000      80343.000000  80343.000000    80343.000000   \n",
       "mean           42.407665          7.087388     14.788208        6.576677   \n",
       "std            71.471632         20.148128     16.454723        5.561190   \n",
       "min          -933.000000       -958.000000      1.000000        1.000000   \n",
       "25%            31.000000          2.000000      5.000000        3.000000   \n",
       "50%            48.000000          7.000000      9.000000        5.000000   \n",
       "75%            67.000000         13.000000     19.000000        9.000000   \n",
       "max           768.000000        433.000000    276.000000       57.000000   \n",
       "\n",
       "       ThatProvider24NBR  NoshowRate24NBR   EdVisitsNBR   IpVisitsNBR  \\\n",
       "count       80343.000000     80343.000000  80343.000000  80343.000000   \n",
       "mean           17.267540         0.060591      0.648096      0.021968   \n",
       "std            25.983765         0.108508      2.352977      0.176549   \n",
       "min             0.000000         0.000000      0.000000      0.000000   \n",
       "25%             1.000000         0.000000      0.000000      0.000000   \n",
       "50%             8.000000         0.000000      0.000000      0.000000   \n",
       "75%            23.000000         0.086956      1.000000      0.000000   \n",
       "max           383.000000         0.833333    155.000000      6.000000   \n",
       "\n",
       "       NoShowFLG  CancelledLateFLG  \n",
       "count    80343.0      80343.000000  \n",
       "mean         0.0          0.175323  \n",
       "std          0.0          0.380246  \n",
       "min          0.0          0.000000  \n",
       "25%          0.0          0.000000  \n",
       "50%          0.0          0.000000  \n",
       "75%          0.0          0.000000  \n",
       "max          0.0          1.000000  \n",
       "\n",
       "[8 rows x 30 columns]"
      ]
     },
     "execution_count": 64,
     "metadata": {},
     "output_type": "execute_result"
    }
   ],
   "source": [
    "showdf.dropna().describe()"
   ]
  },
  {
   "cell_type": "markdown",
   "metadata": {},
   "source": [
    "### -Ve Values of AppttoCheckoutNBR in show"
   ]
  },
  {
   "cell_type": "code",
   "execution_count": 65,
   "metadata": {
    "scrolled": true
   },
   "outputs": [
    {
     "data": {
      "text/html": [
       "<div>\n",
       "<style scoped>\n",
       "    .dataframe tbody tr th:only-of-type {\n",
       "        vertical-align: middle;\n",
       "    }\n",
       "\n",
       "    .dataframe tbody tr th {\n",
       "        vertical-align: top;\n",
       "    }\n",
       "\n",
       "    .dataframe thead th {\n",
       "        text-align: right;\n",
       "    }\n",
       "</style>\n",
       "<table border=\"1\" class=\"dataframe\">\n",
       "  <thead>\n",
       "    <tr style=\"text-align: right;\">\n",
       "      <th></th>\n",
       "      <th>AppointmentID</th>\n",
       "      <th>PatientID</th>\n",
       "      <th>ClinicNM</th>\n",
       "      <th>AppointmentDTS</th>\n",
       "      <th>AppointmentMonthNBR</th>\n",
       "      <th>AppointmentWeekdayNBR</th>\n",
       "      <th>AppointmentHourNBR</th>\n",
       "      <th>AgeNBR</th>\n",
       "      <th>SexFLG</th>\n",
       "      <th>HispanicFLG</th>\n",
       "      <th>...</th>\n",
       "      <th>AppttoCheckoutNBR</th>\n",
       "      <th>CheckintoApptNBR</th>\n",
       "      <th>Arrived24NBR</th>\n",
       "      <th>Providers24CNT</th>\n",
       "      <th>ThatProvider24NBR</th>\n",
       "      <th>NoshowRate24NBR</th>\n",
       "      <th>EdVisitsNBR</th>\n",
       "      <th>IpVisitsNBR</th>\n",
       "      <th>NoShowFLG</th>\n",
       "      <th>CancelledLateFLG</th>\n",
       "    </tr>\n",
       "  </thead>\n",
       "  <tbody>\n",
       "    <tr>\n",
       "      <th>27</th>\n",
       "      <td>91011</td>\n",
       "      <td>14</td>\n",
       "      <td>B</td>\n",
       "      <td>12/18/18</td>\n",
       "      <td>12</td>\n",
       "      <td>3</td>\n",
       "      <td>15</td>\n",
       "      <td>69</td>\n",
       "      <td>F</td>\n",
       "      <td>0</td>\n",
       "      <td>...</td>\n",
       "      <td>-18.0</td>\n",
       "      <td>7.0</td>\n",
       "      <td>18.0</td>\n",
       "      <td>6.0</td>\n",
       "      <td>31.0</td>\n",
       "      <td>0.000000</td>\n",
       "      <td>0</td>\n",
       "      <td>0</td>\n",
       "      <td>0</td>\n",
       "      <td>1</td>\n",
       "    </tr>\n",
       "    <tr>\n",
       "      <th>37</th>\n",
       "      <td>15417</td>\n",
       "      <td>19</td>\n",
       "      <td>E</td>\n",
       "      <td>2/19/18</td>\n",
       "      <td>2</td>\n",
       "      <td>2</td>\n",
       "      <td>14</td>\n",
       "      <td>48</td>\n",
       "      <td>F</td>\n",
       "      <td>0</td>\n",
       "      <td>...</td>\n",
       "      <td>-19.0</td>\n",
       "      <td>2.0</td>\n",
       "      <td>2.0</td>\n",
       "      <td>1.0</td>\n",
       "      <td>0.0</td>\n",
       "      <td>0.333333</td>\n",
       "      <td>1</td>\n",
       "      <td>0</td>\n",
       "      <td>0</td>\n",
       "      <td>0</td>\n",
       "    </tr>\n",
       "    <tr>\n",
       "      <th>183</th>\n",
       "      <td>91619</td>\n",
       "      <td>69</td>\n",
       "      <td>B</td>\n",
       "      <td>12/11/18</td>\n",
       "      <td>12</td>\n",
       "      <td>3</td>\n",
       "      <td>10</td>\n",
       "      <td>23</td>\n",
       "      <td>F</td>\n",
       "      <td>1</td>\n",
       "      <td>...</td>\n",
       "      <td>-5.0</td>\n",
       "      <td>10.0</td>\n",
       "      <td>21.0</td>\n",
       "      <td>18.0</td>\n",
       "      <td>7.0</td>\n",
       "      <td>0.125000</td>\n",
       "      <td>1</td>\n",
       "      <td>0</td>\n",
       "      <td>0</td>\n",
       "      <td>0</td>\n",
       "    </tr>\n",
       "    <tr>\n",
       "      <th>191</th>\n",
       "      <td>36677</td>\n",
       "      <td>69</td>\n",
       "      <td>B</td>\n",
       "      <td>5/7/18</td>\n",
       "      <td>5</td>\n",
       "      <td>2</td>\n",
       "      <td>15</td>\n",
       "      <td>23</td>\n",
       "      <td>F</td>\n",
       "      <td>1</td>\n",
       "      <td>...</td>\n",
       "      <td>-40.0</td>\n",
       "      <td>12.0</td>\n",
       "      <td>9.0</td>\n",
       "      <td>8.0</td>\n",
       "      <td>0.0</td>\n",
       "      <td>0.181818</td>\n",
       "      <td>0</td>\n",
       "      <td>0</td>\n",
       "      <td>0</td>\n",
       "      <td>0</td>\n",
       "    </tr>\n",
       "    <tr>\n",
       "      <th>192</th>\n",
       "      <td>53484</td>\n",
       "      <td>69</td>\n",
       "      <td>B</td>\n",
       "      <td>7/12/18</td>\n",
       "      <td>7</td>\n",
       "      <td>5</td>\n",
       "      <td>14</td>\n",
       "      <td>23</td>\n",
       "      <td>F</td>\n",
       "      <td>1</td>\n",
       "      <td>...</td>\n",
       "      <td>-2.0</td>\n",
       "      <td>13.0</td>\n",
       "      <td>12.0</td>\n",
       "      <td>11.0</td>\n",
       "      <td>0.0</td>\n",
       "      <td>0.200000</td>\n",
       "      <td>0</td>\n",
       "      <td>0</td>\n",
       "      <td>0</td>\n",
       "      <td>0</td>\n",
       "    </tr>\n",
       "    <tr>\n",
       "      <th>...</th>\n",
       "      <td>...</td>\n",
       "      <td>...</td>\n",
       "      <td>...</td>\n",
       "      <td>...</td>\n",
       "      <td>...</td>\n",
       "      <td>...</td>\n",
       "      <td>...</td>\n",
       "      <td>...</td>\n",
       "      <td>...</td>\n",
       "      <td>...</td>\n",
       "      <td>...</td>\n",
       "      <td>...</td>\n",
       "      <td>...</td>\n",
       "      <td>...</td>\n",
       "      <td>...</td>\n",
       "      <td>...</td>\n",
       "      <td>...</td>\n",
       "      <td>...</td>\n",
       "      <td>...</td>\n",
       "      <td>...</td>\n",
       "      <td>...</td>\n",
       "    </tr>\n",
       "    <tr>\n",
       "      <th>95154</th>\n",
       "      <td>95185</td>\n",
       "      <td>33446</td>\n",
       "      <td>B</td>\n",
       "      <td>12/28/18</td>\n",
       "      <td>12</td>\n",
       "      <td>6</td>\n",
       "      <td>9</td>\n",
       "      <td>30</td>\n",
       "      <td>F</td>\n",
       "      <td>1</td>\n",
       "      <td>...</td>\n",
       "      <td>-54.0</td>\n",
       "      <td>15.0</td>\n",
       "      <td>6.0</td>\n",
       "      <td>6.0</td>\n",
       "      <td>2.0</td>\n",
       "      <td>0.250000</td>\n",
       "      <td>1</td>\n",
       "      <td>0</td>\n",
       "      <td>0</td>\n",
       "      <td>0</td>\n",
       "    </tr>\n",
       "    <tr>\n",
       "      <th>95161</th>\n",
       "      <td>85522</td>\n",
       "      <td>33450</td>\n",
       "      <td>B</td>\n",
       "      <td>11/3/18</td>\n",
       "      <td>11</td>\n",
       "      <td>7</td>\n",
       "      <td>11</td>\n",
       "      <td>46</td>\n",
       "      <td>M</td>\n",
       "      <td>1</td>\n",
       "      <td>...</td>\n",
       "      <td>-88.0</td>\n",
       "      <td>7.0</td>\n",
       "      <td>5.0</td>\n",
       "      <td>3.0</td>\n",
       "      <td>0.0</td>\n",
       "      <td>0.285714</td>\n",
       "      <td>0</td>\n",
       "      <td>0</td>\n",
       "      <td>0</td>\n",
       "      <td>0</td>\n",
       "    </tr>\n",
       "    <tr>\n",
       "      <th>95164</th>\n",
       "      <td>3790</td>\n",
       "      <td>33450</td>\n",
       "      <td>B</td>\n",
       "      <td>4/12/18</td>\n",
       "      <td>4</td>\n",
       "      <td>5</td>\n",
       "      <td>15</td>\n",
       "      <td>46</td>\n",
       "      <td>M</td>\n",
       "      <td>1</td>\n",
       "      <td>...</td>\n",
       "      <td>-94.0</td>\n",
       "      <td>9.0</td>\n",
       "      <td>3.0</td>\n",
       "      <td>2.0</td>\n",
       "      <td>5.0</td>\n",
       "      <td>0.000000</td>\n",
       "      <td>0</td>\n",
       "      <td>0</td>\n",
       "      <td>0</td>\n",
       "      <td>0</td>\n",
       "    </tr>\n",
       "    <tr>\n",
       "      <th>95168</th>\n",
       "      <td>1285</td>\n",
       "      <td>33453</td>\n",
       "      <td>A</td>\n",
       "      <td>6/4/18</td>\n",
       "      <td>6</td>\n",
       "      <td>2</td>\n",
       "      <td>8</td>\n",
       "      <td>60</td>\n",
       "      <td>F</td>\n",
       "      <td>0</td>\n",
       "      <td>...</td>\n",
       "      <td>-4.0</td>\n",
       "      <td>54.0</td>\n",
       "      <td>4.0</td>\n",
       "      <td>2.0</td>\n",
       "      <td>16.0</td>\n",
       "      <td>0.000000</td>\n",
       "      <td>0</td>\n",
       "      <td>0</td>\n",
       "      <td>0</td>\n",
       "      <td>0</td>\n",
       "    </tr>\n",
       "    <tr>\n",
       "      <th>95205</th>\n",
       "      <td>11857</td>\n",
       "      <td>33466</td>\n",
       "      <td>B</td>\n",
       "      <td>2/12/18</td>\n",
       "      <td>2</td>\n",
       "      <td>2</td>\n",
       "      <td>9</td>\n",
       "      <td>61</td>\n",
       "      <td>M</td>\n",
       "      <td>0</td>\n",
       "      <td>...</td>\n",
       "      <td>-7.0</td>\n",
       "      <td>0.0</td>\n",
       "      <td>25.0</td>\n",
       "      <td>10.0</td>\n",
       "      <td>0.0</td>\n",
       "      <td>0.358974</td>\n",
       "      <td>2</td>\n",
       "      <td>0</td>\n",
       "      <td>0</td>\n",
       "      <td>1</td>\n",
       "    </tr>\n",
       "  </tbody>\n",
       "</table>\n",
       "<p>8709 rows × 34 columns</p>\n",
       "</div>"
      ],
      "text/plain": [
       "       AppointmentID  PatientID ClinicNM AppointmentDTS  AppointmentMonthNBR  \\\n",
       "27             91011         14        B       12/18/18                   12   \n",
       "37             15417         19        E        2/19/18                    2   \n",
       "183            91619         69        B       12/11/18                   12   \n",
       "191            36677         69        B         5/7/18                    5   \n",
       "192            53484         69        B        7/12/18                    7   \n",
       "...              ...        ...      ...            ...                  ...   \n",
       "95154          95185      33446        B       12/28/18                   12   \n",
       "95161          85522      33450        B        11/3/18                   11   \n",
       "95164           3790      33450        B        4/12/18                    4   \n",
       "95168           1285      33453        A         6/4/18                    6   \n",
       "95205          11857      33466        B        2/12/18                    2   \n",
       "\n",
       "       AppointmentWeekdayNBR  AppointmentHourNBR  AgeNBR SexFLG  HispanicFLG  \\\n",
       "27                         3                  15      69      F            0   \n",
       "37                         2                  14      48      F            0   \n",
       "183                        3                  10      23      F            1   \n",
       "191                        2                  15      23      F            1   \n",
       "192                        5                  14      23      F            1   \n",
       "...                      ...                 ...     ...    ...          ...   \n",
       "95154                      6                   9      30      F            1   \n",
       "95161                      7                  11      46      M            1   \n",
       "95164                      5                  15      46      M            1   \n",
       "95168                      2                   8      60      F            0   \n",
       "95205                      2                   9      61      M            0   \n",
       "\n",
       "       ...  AppttoCheckoutNBR  CheckintoApptNBR  Arrived24NBR  Providers24CNT  \\\n",
       "27     ...              -18.0               7.0          18.0             6.0   \n",
       "37     ...              -19.0               2.0           2.0             1.0   \n",
       "183    ...               -5.0              10.0          21.0            18.0   \n",
       "191    ...              -40.0              12.0           9.0             8.0   \n",
       "192    ...               -2.0              13.0          12.0            11.0   \n",
       "...    ...                ...               ...           ...             ...   \n",
       "95154  ...              -54.0              15.0           6.0             6.0   \n",
       "95161  ...              -88.0               7.0           5.0             3.0   \n",
       "95164  ...              -94.0               9.0           3.0             2.0   \n",
       "95168  ...               -4.0              54.0           4.0             2.0   \n",
       "95205  ...               -7.0               0.0          25.0            10.0   \n",
       "\n",
       "      ThatProvider24NBR  NoshowRate24NBR  EdVisitsNBR  IpVisitsNBR  NoShowFLG  \\\n",
       "27                 31.0         0.000000            0            0          0   \n",
       "37                  0.0         0.333333            1            0          0   \n",
       "183                 7.0         0.125000            1            0          0   \n",
       "191                 0.0         0.181818            0            0          0   \n",
       "192                 0.0         0.200000            0            0          0   \n",
       "...                 ...              ...          ...          ...        ...   \n",
       "95154               2.0         0.250000            1            0          0   \n",
       "95161               0.0         0.285714            0            0          0   \n",
       "95164               5.0         0.000000            0            0          0   \n",
       "95168              16.0         0.000000            0            0          0   \n",
       "95205               0.0         0.358974            2            0          0   \n",
       "\n",
       "       CancelledLateFLG  \n",
       "27                    1  \n",
       "37                    0  \n",
       "183                   0  \n",
       "191                   0  \n",
       "192                   0  \n",
       "...                 ...  \n",
       "95154                 0  \n",
       "95161                 0  \n",
       "95164                 0  \n",
       "95168                 0  \n",
       "95205                 1  \n",
       "\n",
       "[8709 rows x 34 columns]"
      ]
     },
     "execution_count": 65,
     "metadata": {},
     "output_type": "execute_result"
    }
   ],
   "source": [
    "showdf[showdf['AppttoCheckoutNBR'] <0]"
   ]
  },
  {
   "cell_type": "markdown",
   "metadata": {},
   "source": [
    "### -Ve Values of AppttoCheckoutNBR in Noshow"
   ]
  },
  {
   "cell_type": "code",
   "execution_count": 66,
   "metadata": {},
   "outputs": [
    {
     "data": {
      "text/html": [
       "<div>\n",
       "<style scoped>\n",
       "    .dataframe tbody tr th:only-of-type {\n",
       "        vertical-align: middle;\n",
       "    }\n",
       "\n",
       "    .dataframe tbody tr th {\n",
       "        vertical-align: top;\n",
       "    }\n",
       "\n",
       "    .dataframe thead th {\n",
       "        text-align: right;\n",
       "    }\n",
       "</style>\n",
       "<table border=\"1\" class=\"dataframe\">\n",
       "  <thead>\n",
       "    <tr style=\"text-align: right;\">\n",
       "      <th></th>\n",
       "      <th>AppointmentID</th>\n",
       "      <th>PatientID</th>\n",
       "      <th>ClinicNM</th>\n",
       "      <th>AppointmentDTS</th>\n",
       "      <th>AppointmentMonthNBR</th>\n",
       "      <th>AppointmentWeekdayNBR</th>\n",
       "      <th>AppointmentHourNBR</th>\n",
       "      <th>AgeNBR</th>\n",
       "      <th>SexFLG</th>\n",
       "      <th>HispanicFLG</th>\n",
       "      <th>...</th>\n",
       "      <th>AppttoCheckoutNBR</th>\n",
       "      <th>CheckintoApptNBR</th>\n",
       "      <th>Arrived24NBR</th>\n",
       "      <th>Providers24CNT</th>\n",
       "      <th>ThatProvider24NBR</th>\n",
       "      <th>NoshowRate24NBR</th>\n",
       "      <th>EdVisitsNBR</th>\n",
       "      <th>IpVisitsNBR</th>\n",
       "      <th>NoShowFLG</th>\n",
       "      <th>CancelledLateFLG</th>\n",
       "    </tr>\n",
       "  </thead>\n",
       "  <tbody>\n",
       "    <tr>\n",
       "      <th>193</th>\n",
       "      <td>48963</td>\n",
       "      <td>69</td>\n",
       "      <td>B</td>\n",
       "      <td>6/21/18</td>\n",
       "      <td>6</td>\n",
       "      <td>5</td>\n",
       "      <td>16</td>\n",
       "      <td>23</td>\n",
       "      <td>F</td>\n",
       "      <td>1</td>\n",
       "      <td>...</td>\n",
       "      <td>-2.0</td>\n",
       "      <td>13.0</td>\n",
       "      <td>12.0</td>\n",
       "      <td>11.0</td>\n",
       "      <td>6.0</td>\n",
       "      <td>0.142857</td>\n",
       "      <td>0</td>\n",
       "      <td>0</td>\n",
       "      <td>1</td>\n",
       "      <td>0</td>\n",
       "    </tr>\n",
       "    <tr>\n",
       "      <th>197</th>\n",
       "      <td>22416</td>\n",
       "      <td>69</td>\n",
       "      <td>B</td>\n",
       "      <td>3/15/18</td>\n",
       "      <td>3</td>\n",
       "      <td>5</td>\n",
       "      <td>16</td>\n",
       "      <td>23</td>\n",
       "      <td>F</td>\n",
       "      <td>1</td>\n",
       "      <td>...</td>\n",
       "      <td>-40.0</td>\n",
       "      <td>11.0</td>\n",
       "      <td>7.0</td>\n",
       "      <td>6.0</td>\n",
       "      <td>2.0</td>\n",
       "      <td>0.125000</td>\n",
       "      <td>0</td>\n",
       "      <td>0</td>\n",
       "      <td>1</td>\n",
       "      <td>0</td>\n",
       "    </tr>\n",
       "    <tr>\n",
       "      <th>332</th>\n",
       "      <td>23204</td>\n",
       "      <td>118</td>\n",
       "      <td>B</td>\n",
       "      <td>6/14/18</td>\n",
       "      <td>6</td>\n",
       "      <td>5</td>\n",
       "      <td>14</td>\n",
       "      <td>46</td>\n",
       "      <td>M</td>\n",
       "      <td>0</td>\n",
       "      <td>...</td>\n",
       "      <td>-114.0</td>\n",
       "      <td>12.0</td>\n",
       "      <td>5.0</td>\n",
       "      <td>3.0</td>\n",
       "      <td>8.0</td>\n",
       "      <td>0.285714</td>\n",
       "      <td>1</td>\n",
       "      <td>0</td>\n",
       "      <td>1</td>\n",
       "      <td>0</td>\n",
       "    </tr>\n",
       "    <tr>\n",
       "      <th>410</th>\n",
       "      <td>39737</td>\n",
       "      <td>156</td>\n",
       "      <td>B</td>\n",
       "      <td>5/16/18</td>\n",
       "      <td>5</td>\n",
       "      <td>4</td>\n",
       "      <td>9</td>\n",
       "      <td>61</td>\n",
       "      <td>F</td>\n",
       "      <td>1</td>\n",
       "      <td>...</td>\n",
       "      <td>-21.0</td>\n",
       "      <td>22.0</td>\n",
       "      <td>17.0</td>\n",
       "      <td>9.0</td>\n",
       "      <td>37.0</td>\n",
       "      <td>0.055555</td>\n",
       "      <td>1</td>\n",
       "      <td>0</td>\n",
       "      <td>1</td>\n",
       "      <td>0</td>\n",
       "    </tr>\n",
       "    <tr>\n",
       "      <th>497</th>\n",
       "      <td>50827</td>\n",
       "      <td>189</td>\n",
       "      <td>B</td>\n",
       "      <td>7/16/18</td>\n",
       "      <td>7</td>\n",
       "      <td>2</td>\n",
       "      <td>13</td>\n",
       "      <td>70</td>\n",
       "      <td>F</td>\n",
       "      <td>0</td>\n",
       "      <td>...</td>\n",
       "      <td>-183.0</td>\n",
       "      <td>-11.0</td>\n",
       "      <td>2.0</td>\n",
       "      <td>2.0</td>\n",
       "      <td>0.0</td>\n",
       "      <td>0.000000</td>\n",
       "      <td>0</td>\n",
       "      <td>0</td>\n",
       "      <td>1</td>\n",
       "      <td>0</td>\n",
       "    </tr>\n",
       "    <tr>\n",
       "      <th>...</th>\n",
       "      <td>...</td>\n",
       "      <td>...</td>\n",
       "      <td>...</td>\n",
       "      <td>...</td>\n",
       "      <td>...</td>\n",
       "      <td>...</td>\n",
       "      <td>...</td>\n",
       "      <td>...</td>\n",
       "      <td>...</td>\n",
       "      <td>...</td>\n",
       "      <td>...</td>\n",
       "      <td>...</td>\n",
       "      <td>...</td>\n",
       "      <td>...</td>\n",
       "      <td>...</td>\n",
       "      <td>...</td>\n",
       "      <td>...</td>\n",
       "      <td>...</td>\n",
       "      <td>...</td>\n",
       "      <td>...</td>\n",
       "      <td>...</td>\n",
       "    </tr>\n",
       "    <tr>\n",
       "      <th>94952</th>\n",
       "      <td>77919</td>\n",
       "      <td>33380</td>\n",
       "      <td>B</td>\n",
       "      <td>11/1/18</td>\n",
       "      <td>11</td>\n",
       "      <td>5</td>\n",
       "      <td>13</td>\n",
       "      <td>57</td>\n",
       "      <td>M</td>\n",
       "      <td>0</td>\n",
       "      <td>...</td>\n",
       "      <td>-192.0</td>\n",
       "      <td>11.0</td>\n",
       "      <td>18.0</td>\n",
       "      <td>8.0</td>\n",
       "      <td>13.0</td>\n",
       "      <td>0.100000</td>\n",
       "      <td>6</td>\n",
       "      <td>1</td>\n",
       "      <td>1</td>\n",
       "      <td>0</td>\n",
       "    </tr>\n",
       "    <tr>\n",
       "      <th>95013</th>\n",
       "      <td>87312</td>\n",
       "      <td>33398</td>\n",
       "      <td>B</td>\n",
       "      <td>11/15/18</td>\n",
       "      <td>11</td>\n",
       "      <td>5</td>\n",
       "      <td>11</td>\n",
       "      <td>83</td>\n",
       "      <td>F</td>\n",
       "      <td>0</td>\n",
       "      <td>...</td>\n",
       "      <td>-39.0</td>\n",
       "      <td>15.0</td>\n",
       "      <td>49.0</td>\n",
       "      <td>11.0</td>\n",
       "      <td>102.0</td>\n",
       "      <td>0.000000</td>\n",
       "      <td>8</td>\n",
       "      <td>0</td>\n",
       "      <td>1</td>\n",
       "      <td>0</td>\n",
       "    </tr>\n",
       "    <tr>\n",
       "      <th>95150</th>\n",
       "      <td>13975</td>\n",
       "      <td>33446</td>\n",
       "      <td>B</td>\n",
       "      <td>3/28/18</td>\n",
       "      <td>3</td>\n",
       "      <td>4</td>\n",
       "      <td>14</td>\n",
       "      <td>30</td>\n",
       "      <td>F</td>\n",
       "      <td>1</td>\n",
       "      <td>...</td>\n",
       "      <td>-16.0</td>\n",
       "      <td>13.0</td>\n",
       "      <td>8.0</td>\n",
       "      <td>6.0</td>\n",
       "      <td>2.0</td>\n",
       "      <td>0.272727</td>\n",
       "      <td>1</td>\n",
       "      <td>0</td>\n",
       "      <td>1</td>\n",
       "      <td>0</td>\n",
       "    </tr>\n",
       "    <tr>\n",
       "      <th>95160</th>\n",
       "      <td>80255</td>\n",
       "      <td>33450</td>\n",
       "      <td>B</td>\n",
       "      <td>10/17/18</td>\n",
       "      <td>10</td>\n",
       "      <td>4</td>\n",
       "      <td>14</td>\n",
       "      <td>46</td>\n",
       "      <td>M</td>\n",
       "      <td>1</td>\n",
       "      <td>...</td>\n",
       "      <td>-88.0</td>\n",
       "      <td>7.0</td>\n",
       "      <td>5.0</td>\n",
       "      <td>3.0</td>\n",
       "      <td>0.0</td>\n",
       "      <td>0.000000</td>\n",
       "      <td>0</td>\n",
       "      <td>0</td>\n",
       "      <td>1</td>\n",
       "      <td>0</td>\n",
       "    </tr>\n",
       "    <tr>\n",
       "      <th>95162</th>\n",
       "      <td>84155</td>\n",
       "      <td>33450</td>\n",
       "      <td>B</td>\n",
       "      <td>10/31/18</td>\n",
       "      <td>10</td>\n",
       "      <td>4</td>\n",
       "      <td>16</td>\n",
       "      <td>46</td>\n",
       "      <td>M</td>\n",
       "      <td>1</td>\n",
       "      <td>...</td>\n",
       "      <td>-88.0</td>\n",
       "      <td>7.0</td>\n",
       "      <td>5.0</td>\n",
       "      <td>3.0</td>\n",
       "      <td>1.0</td>\n",
       "      <td>0.166666</td>\n",
       "      <td>0</td>\n",
       "      <td>0</td>\n",
       "      <td>1</td>\n",
       "      <td>0</td>\n",
       "    </tr>\n",
       "  </tbody>\n",
       "</table>\n",
       "<p>1143 rows × 34 columns</p>\n",
       "</div>"
      ],
      "text/plain": [
       "       AppointmentID  PatientID ClinicNM AppointmentDTS  AppointmentMonthNBR  \\\n",
       "193            48963         69        B        6/21/18                    6   \n",
       "197            22416         69        B        3/15/18                    3   \n",
       "332            23204        118        B        6/14/18                    6   \n",
       "410            39737        156        B        5/16/18                    5   \n",
       "497            50827        189        B        7/16/18                    7   \n",
       "...              ...        ...      ...            ...                  ...   \n",
       "94952          77919      33380        B        11/1/18                   11   \n",
       "95013          87312      33398        B       11/15/18                   11   \n",
       "95150          13975      33446        B        3/28/18                    3   \n",
       "95160          80255      33450        B       10/17/18                   10   \n",
       "95162          84155      33450        B       10/31/18                   10   \n",
       "\n",
       "       AppointmentWeekdayNBR  AppointmentHourNBR  AgeNBR SexFLG  HispanicFLG  \\\n",
       "193                        5                  16      23      F            1   \n",
       "197                        5                  16      23      F            1   \n",
       "332                        5                  14      46      M            0   \n",
       "410                        4                   9      61      F            1   \n",
       "497                        2                  13      70      F            0   \n",
       "...                      ...                 ...     ...    ...          ...   \n",
       "94952                      5                  13      57      M            0   \n",
       "95013                      5                  11      83      F            0   \n",
       "95150                      4                  14      30      F            1   \n",
       "95160                      4                  14      46      M            1   \n",
       "95162                      4                  16      46      M            1   \n",
       "\n",
       "       ...  AppttoCheckoutNBR  CheckintoApptNBR  Arrived24NBR  Providers24CNT  \\\n",
       "193    ...               -2.0              13.0          12.0            11.0   \n",
       "197    ...              -40.0              11.0           7.0             6.0   \n",
       "332    ...             -114.0              12.0           5.0             3.0   \n",
       "410    ...              -21.0              22.0          17.0             9.0   \n",
       "497    ...             -183.0             -11.0           2.0             2.0   \n",
       "...    ...                ...               ...           ...             ...   \n",
       "94952  ...             -192.0              11.0          18.0             8.0   \n",
       "95013  ...              -39.0              15.0          49.0            11.0   \n",
       "95150  ...              -16.0              13.0           8.0             6.0   \n",
       "95160  ...              -88.0               7.0           5.0             3.0   \n",
       "95162  ...              -88.0               7.0           5.0             3.0   \n",
       "\n",
       "      ThatProvider24NBR  NoshowRate24NBR  EdVisitsNBR  IpVisitsNBR  NoShowFLG  \\\n",
       "193                 6.0         0.142857            0            0          1   \n",
       "197                 2.0         0.125000            0            0          1   \n",
       "332                 8.0         0.285714            1            0          1   \n",
       "410                37.0         0.055555            1            0          1   \n",
       "497                 0.0         0.000000            0            0          1   \n",
       "...                 ...              ...          ...          ...        ...   \n",
       "94952              13.0         0.100000            6            1          1   \n",
       "95013             102.0         0.000000            8            0          1   \n",
       "95150               2.0         0.272727            1            0          1   \n",
       "95160               0.0         0.000000            0            0          1   \n",
       "95162               1.0         0.166666            0            0          1   \n",
       "\n",
       "       CancelledLateFLG  \n",
       "193                   0  \n",
       "197                   0  \n",
       "332                   0  \n",
       "410                   0  \n",
       "497                   0  \n",
       "...                 ...  \n",
       "94952                 0  \n",
       "95013                 0  \n",
       "95150                 0  \n",
       "95160                 0  \n",
       "95162                 0  \n",
       "\n",
       "[1143 rows x 34 columns]"
      ]
     },
     "execution_count": 66,
     "metadata": {},
     "output_type": "execute_result"
    }
   ],
   "source": [
    "noShowDf[noShowDf['AppttoCheckoutNBR'] <0]"
   ]
  },
  {
   "cell_type": "markdown",
   "metadata": {},
   "source": [
    "### Age values zero"
   ]
  },
  {
   "cell_type": "code",
   "execution_count": 67,
   "metadata": {},
   "outputs": [],
   "source": [
    "zeroAges = df[df['AgeNBR'] == 0]\n",
    "#zeroAges"
   ]
  },
  {
   "cell_type": "code",
   "execution_count": 68,
   "metadata": {},
   "outputs": [
    {
     "data": {
      "text/html": [
       "<div>\n",
       "<style scoped>\n",
       "    .dataframe tbody tr th:only-of-type {\n",
       "        vertical-align: middle;\n",
       "    }\n",
       "\n",
       "    .dataframe tbody tr th {\n",
       "        vertical-align: top;\n",
       "    }\n",
       "\n",
       "    .dataframe thead th {\n",
       "        text-align: right;\n",
       "    }\n",
       "</style>\n",
       "<table border=\"1\" class=\"dataframe\">\n",
       "  <thead>\n",
       "    <tr style=\"text-align: right;\">\n",
       "      <th></th>\n",
       "      <th>AppointmentID</th>\n",
       "      <th>PatientID</th>\n",
       "      <th>ClinicNM</th>\n",
       "      <th>AppointmentDTS</th>\n",
       "      <th>AppointmentMonthNBR</th>\n",
       "      <th>AppointmentWeekdayNBR</th>\n",
       "      <th>AppointmentHourNBR</th>\n",
       "      <th>AgeNBR</th>\n",
       "      <th>SexFLG</th>\n",
       "      <th>HispanicFLG</th>\n",
       "      <th>...</th>\n",
       "      <th>AppttoCheckoutNBR</th>\n",
       "      <th>CheckintoApptNBR</th>\n",
       "      <th>Arrived24NBR</th>\n",
       "      <th>Providers24CNT</th>\n",
       "      <th>ThatProvider24NBR</th>\n",
       "      <th>NoshowRate24NBR</th>\n",
       "      <th>EdVisitsNBR</th>\n",
       "      <th>IpVisitsNBR</th>\n",
       "      <th>NoShowFLG</th>\n",
       "      <th>CancelledLateFLG</th>\n",
       "    </tr>\n",
       "  </thead>\n",
       "  <tbody>\n",
       "    <tr>\n",
       "      <th>0</th>\n",
       "      <td>21725</td>\n",
       "      <td>1</td>\n",
       "      <td>E</td>\n",
       "      <td>4/10/18</td>\n",
       "      <td>4</td>\n",
       "      <td>3</td>\n",
       "      <td>17</td>\n",
       "      <td>50</td>\n",
       "      <td>F</td>\n",
       "      <td>0</td>\n",
       "      <td>...</td>\n",
       "      <td>50.0</td>\n",
       "      <td>-1.0</td>\n",
       "      <td>2.0</td>\n",
       "      <td>2.0</td>\n",
       "      <td>0.0</td>\n",
       "      <td>0.000000</td>\n",
       "      <td>0</td>\n",
       "      <td>0</td>\n",
       "      <td>1</td>\n",
       "      <td>0</td>\n",
       "    </tr>\n",
       "    <tr>\n",
       "      <th>8</th>\n",
       "      <td>29351</td>\n",
       "      <td>5</td>\n",
       "      <td>C</td>\n",
       "      <td>4/5/18</td>\n",
       "      <td>4</td>\n",
       "      <td>5</td>\n",
       "      <td>10</td>\n",
       "      <td>23</td>\n",
       "      <td>F</td>\n",
       "      <td>0</td>\n",
       "      <td>...</td>\n",
       "      <td>65.0</td>\n",
       "      <td>10.0</td>\n",
       "      <td>27.0</td>\n",
       "      <td>17.0</td>\n",
       "      <td>0.0</td>\n",
       "      <td>0.000000</td>\n",
       "      <td>0</td>\n",
       "      <td>0</td>\n",
       "      <td>0</td>\n",
       "      <td>0</td>\n",
       "    </tr>\n",
       "    <tr>\n",
       "      <th>14</th>\n",
       "      <td>2091</td>\n",
       "      <td>9</td>\n",
       "      <td>A</td>\n",
       "      <td>1/26/18</td>\n",
       "      <td>1</td>\n",
       "      <td>6</td>\n",
       "      <td>14</td>\n",
       "      <td>35</td>\n",
       "      <td>M</td>\n",
       "      <td>1</td>\n",
       "      <td>...</td>\n",
       "      <td>47.0</td>\n",
       "      <td>-1.0</td>\n",
       "      <td>5.0</td>\n",
       "      <td>2.0</td>\n",
       "      <td>0.0</td>\n",
       "      <td>0.375000</td>\n",
       "      <td>0</td>\n",
       "      <td>0</td>\n",
       "      <td>1</td>\n",
       "      <td>0</td>\n",
       "    </tr>\n",
       "    <tr>\n",
       "      <th>16</th>\n",
       "      <td>23310</td>\n",
       "      <td>11</td>\n",
       "      <td>E</td>\n",
       "      <td>3/15/18</td>\n",
       "      <td>3</td>\n",
       "      <td>5</td>\n",
       "      <td>15</td>\n",
       "      <td>22</td>\n",
       "      <td>F</td>\n",
       "      <td>0</td>\n",
       "      <td>...</td>\n",
       "      <td>72.0</td>\n",
       "      <td>2.0</td>\n",
       "      <td>9.0</td>\n",
       "      <td>7.0</td>\n",
       "      <td>2.0</td>\n",
       "      <td>0.250000</td>\n",
       "      <td>0</td>\n",
       "      <td>0</td>\n",
       "      <td>0</td>\n",
       "      <td>0</td>\n",
       "    </tr>\n",
       "    <tr>\n",
       "      <th>17</th>\n",
       "      <td>36467</td>\n",
       "      <td>11</td>\n",
       "      <td>E</td>\n",
       "      <td>5/8/18</td>\n",
       "      <td>5</td>\n",
       "      <td>3</td>\n",
       "      <td>16</td>\n",
       "      <td>22</td>\n",
       "      <td>F</td>\n",
       "      <td>0</td>\n",
       "      <td>...</td>\n",
       "      <td>71.0</td>\n",
       "      <td>3.0</td>\n",
       "      <td>10.0</td>\n",
       "      <td>8.0</td>\n",
       "      <td>3.0</td>\n",
       "      <td>0.230769</td>\n",
       "      <td>0</td>\n",
       "      <td>0</td>\n",
       "      <td>1</td>\n",
       "      <td>0</td>\n",
       "    </tr>\n",
       "  </tbody>\n",
       "</table>\n",
       "<p>5 rows × 34 columns</p>\n",
       "</div>"
      ],
      "text/plain": [
       "    AppointmentID  PatientID ClinicNM AppointmentDTS  AppointmentMonthNBR  \\\n",
       "0           21725          1        E        4/10/18                    4   \n",
       "8           29351          5        C         4/5/18                    4   \n",
       "14           2091          9        A        1/26/18                    1   \n",
       "16          23310         11        E        3/15/18                    3   \n",
       "17          36467         11        E         5/8/18                    5   \n",
       "\n",
       "    AppointmentWeekdayNBR  AppointmentHourNBR  AgeNBR SexFLG  HispanicFLG  \\\n",
       "0                       3                  17      50      F            0   \n",
       "8                       5                  10      23      F            0   \n",
       "14                      6                  14      35      M            1   \n",
       "16                      5                  15      22      F            0   \n",
       "17                      3                  16      22      F            0   \n",
       "\n",
       "    ...  AppttoCheckoutNBR  CheckintoApptNBR  Arrived24NBR  Providers24CNT  \\\n",
       "0   ...               50.0              -1.0           2.0             2.0   \n",
       "8   ...               65.0              10.0          27.0            17.0   \n",
       "14  ...               47.0              -1.0           5.0             2.0   \n",
       "16  ...               72.0               2.0           9.0             7.0   \n",
       "17  ...               71.0               3.0          10.0             8.0   \n",
       "\n",
       "   ThatProvider24NBR  NoshowRate24NBR  EdVisitsNBR  IpVisitsNBR  NoShowFLG  \\\n",
       "0                0.0         0.000000            0            0          1   \n",
       "8                0.0         0.000000            0            0          0   \n",
       "14               0.0         0.375000            0            0          1   \n",
       "16               2.0         0.250000            0            0          0   \n",
       "17               3.0         0.230769            0            0          1   \n",
       "\n",
       "    CancelledLateFLG  \n",
       "0                  0  \n",
       "8                  0  \n",
       "14                 0  \n",
       "16                 0  \n",
       "17                 0  \n",
       "\n",
       "[5 rows x 34 columns]"
      ]
     },
     "execution_count": 68,
     "metadata": {},
     "output_type": "execute_result"
    }
   ],
   "source": [
    "df[df['Latearrivals24NBR'] > df['ThatProvider24NBR']].head()"
   ]
  },
  {
   "cell_type": "code",
   "execution_count": 69,
   "metadata": {},
   "outputs": [
    {
     "data": {
      "text/plain": [
       "1006"
      ]
     },
     "execution_count": 69,
     "metadata": {},
     "output_type": "execute_result"
    }
   ],
   "source": [
    "# Negative samples for CheckintoCheckoutNBR  in noShowDf\n",
    "negative_samples_CheckintoCheckoutNBR_noShowDf = noShowDf[noShowDf['CheckintoCheckoutNBR'] <0].index.size\n",
    "negative_samples_CheckintoCheckoutNBR_noShowDf"
   ]
  },
  {
   "cell_type": "code",
   "execution_count": 70,
   "metadata": {},
   "outputs": [
    {
     "data": {
      "text/plain": [
       "7538"
      ]
     },
     "execution_count": 70,
     "metadata": {},
     "output_type": "execute_result"
    }
   ],
   "source": [
    "# Negative samples for CheckintoCheckoutNBR  in ShowDf\n",
    "negative_samples_CheckintoCheckoutNBR_showdf = showdf[showdf['CheckintoCheckoutNBR'] <0].index.size\n",
    "negative_samples_CheckintoCheckoutNBR_showdf"
   ]
  },
  {
   "cell_type": "code",
   "execution_count": 71,
   "metadata": {},
   "outputs": [
    {
     "data": {
      "text/plain": [
       "1143"
      ]
     },
     "execution_count": 71,
     "metadata": {},
     "output_type": "execute_result"
    }
   ],
   "source": [
    "# Negative samples for AppttoCheckoutNBR in noShowDf\n",
    "negative_samples_AppttoCheckoutNBR_noShowDf = noShowDf[noShowDf['AppttoCheckoutNBR'] <0].index.size\n",
    "negative_samples_AppttoCheckoutNBR_noShowDf"
   ]
  },
  {
   "cell_type": "code",
   "execution_count": 72,
   "metadata": {},
   "outputs": [
    {
     "data": {
      "text/plain": [
       "8709"
      ]
     },
     "execution_count": 72,
     "metadata": {},
     "output_type": "execute_result"
    }
   ],
   "source": [
    "# Negative samples for AppttoCheckoutNBR in ShowDf\n",
    "negative_samples_AppttoCheckoutNBR_showdf = showdf[showdf['AppttoCheckoutNBR'] <0].index.size\n",
    "negative_samples_AppttoCheckoutNBR_showdf"
   ]
  },
  {
   "cell_type": "code",
   "execution_count": 73,
   "metadata": {},
   "outputs": [
    {
     "data": {
      "text/plain": [
       "71515"
      ]
     },
     "execution_count": 73,
     "metadata": {},
     "output_type": "execute_result"
    }
   ],
   "source": [
    "# Drop rows if it has negative value either in AppttoCheckoutNBR or CheckintoCheckoutNBR in showdf\n",
    "# same as drop\n",
    "\n",
    "showdf = showdf[(showdf['AppttoCheckoutNBR'] >=0) &  (showdf['CheckintoCheckoutNBR'] >=0)]\n",
    "len(showdf)\n",
    "\n",
    "# indices = showdf[(showdf['AppttoCheckoutNBR'] <0) |  (showdf['CheckintoCheckoutNBR'] <0)].index\n",
    "# showdf.drop(indices, inplace=True)\n",
    "# showdf.index.size"
   ]
  },
  {
   "cell_type": "code",
   "execution_count": 74,
   "metadata": {
    "scrolled": true
   },
   "outputs": [
    {
     "data": {
      "text/html": [
       "<div>\n",
       "<style scoped>\n",
       "    .dataframe tbody tr th:only-of-type {\n",
       "        vertical-align: middle;\n",
       "    }\n",
       "\n",
       "    .dataframe tbody tr th {\n",
       "        vertical-align: top;\n",
       "    }\n",
       "\n",
       "    .dataframe thead th {\n",
       "        text-align: right;\n",
       "    }\n",
       "</style>\n",
       "<table border=\"1\" class=\"dataframe\">\n",
       "  <thead>\n",
       "    <tr style=\"text-align: right;\">\n",
       "      <th></th>\n",
       "      <th>AppointmentID</th>\n",
       "      <th>PatientID</th>\n",
       "      <th>ClinicNM</th>\n",
       "      <th>AppointmentDTS</th>\n",
       "      <th>AppointmentMonthNBR</th>\n",
       "      <th>AppointmentWeekdayNBR</th>\n",
       "      <th>AppointmentHourNBR</th>\n",
       "      <th>AgeNBR</th>\n",
       "      <th>SexFLG</th>\n",
       "      <th>HispanicFLG</th>\n",
       "      <th>...</th>\n",
       "      <th>AppttoCheckoutNBR</th>\n",
       "      <th>CheckintoApptNBR</th>\n",
       "      <th>Arrived24NBR</th>\n",
       "      <th>Providers24CNT</th>\n",
       "      <th>ThatProvider24NBR</th>\n",
       "      <th>NoshowRate24NBR</th>\n",
       "      <th>EdVisitsNBR</th>\n",
       "      <th>IpVisitsNBR</th>\n",
       "      <th>NoShowFLG</th>\n",
       "      <th>CancelledLateFLG</th>\n",
       "    </tr>\n",
       "  </thead>\n",
       "  <tbody>\n",
       "    <tr>\n",
       "      <th>1</th>\n",
       "      <td>11206</td>\n",
       "      <td>2</td>\n",
       "      <td>A</td>\n",
       "      <td>2/7/18</td>\n",
       "      <td>2</td>\n",
       "      <td>4</td>\n",
       "      <td>10</td>\n",
       "      <td>80</td>\n",
       "      <td>M</td>\n",
       "      <td>0</td>\n",
       "      <td>...</td>\n",
       "      <td>49.0</td>\n",
       "      <td>1.0</td>\n",
       "      <td>2.0</td>\n",
       "      <td>1.0</td>\n",
       "      <td>5.0</td>\n",
       "      <td>0.0</td>\n",
       "      <td>0</td>\n",
       "      <td>0</td>\n",
       "      <td>0</td>\n",
       "      <td>1</td>\n",
       "    </tr>\n",
       "    <tr>\n",
       "      <th>2</th>\n",
       "      <td>12548</td>\n",
       "      <td>2</td>\n",
       "      <td>A</td>\n",
       "      <td>2/8/18</td>\n",
       "      <td>2</td>\n",
       "      <td>5</td>\n",
       "      <td>16</td>\n",
       "      <td>80</td>\n",
       "      <td>M</td>\n",
       "      <td>0</td>\n",
       "      <td>...</td>\n",
       "      <td>49.0</td>\n",
       "      <td>1.0</td>\n",
       "      <td>2.0</td>\n",
       "      <td>1.0</td>\n",
       "      <td>6.0</td>\n",
       "      <td>0.0</td>\n",
       "      <td>0</td>\n",
       "      <td>0</td>\n",
       "      <td>0</td>\n",
       "      <td>0</td>\n",
       "    </tr>\n",
       "    <tr>\n",
       "      <th>3</th>\n",
       "      <td>12727</td>\n",
       "      <td>2</td>\n",
       "      <td>A</td>\n",
       "      <td>3/8/18</td>\n",
       "      <td>3</td>\n",
       "      <td>5</td>\n",
       "      <td>15</td>\n",
       "      <td>80</td>\n",
       "      <td>M</td>\n",
       "      <td>0</td>\n",
       "      <td>...</td>\n",
       "      <td>48.0</td>\n",
       "      <td>7.0</td>\n",
       "      <td>3.0</td>\n",
       "      <td>1.0</td>\n",
       "      <td>8.0</td>\n",
       "      <td>0.0</td>\n",
       "      <td>0</td>\n",
       "      <td>0</td>\n",
       "      <td>0</td>\n",
       "      <td>0</td>\n",
       "    </tr>\n",
       "    <tr>\n",
       "      <th>4</th>\n",
       "      <td>86882</td>\n",
       "      <td>2</td>\n",
       "      <td>A</td>\n",
       "      <td>11/9/18</td>\n",
       "      <td>11</td>\n",
       "      <td>6</td>\n",
       "      <td>16</td>\n",
       "      <td>80</td>\n",
       "      <td>M</td>\n",
       "      <td>0</td>\n",
       "      <td>...</td>\n",
       "      <td>47.0</td>\n",
       "      <td>13.0</td>\n",
       "      <td>3.0</td>\n",
       "      <td>1.0</td>\n",
       "      <td>13.0</td>\n",
       "      <td>0.0</td>\n",
       "      <td>0</td>\n",
       "      <td>0</td>\n",
       "      <td>0</td>\n",
       "      <td>0</td>\n",
       "    </tr>\n",
       "    <tr>\n",
       "      <th>5</th>\n",
       "      <td>95113</td>\n",
       "      <td>3</td>\n",
       "      <td>A</td>\n",
       "      <td>12/28/18</td>\n",
       "      <td>12</td>\n",
       "      <td>6</td>\n",
       "      <td>15</td>\n",
       "      <td>32</td>\n",
       "      <td>F</td>\n",
       "      <td>0</td>\n",
       "      <td>...</td>\n",
       "      <td>45.0</td>\n",
       "      <td>2.0</td>\n",
       "      <td>3.0</td>\n",
       "      <td>3.0</td>\n",
       "      <td>11.0</td>\n",
       "      <td>0.0</td>\n",
       "      <td>0</td>\n",
       "      <td>0</td>\n",
       "      <td>0</td>\n",
       "      <td>0</td>\n",
       "    </tr>\n",
       "  </tbody>\n",
       "</table>\n",
       "<p>5 rows × 34 columns</p>\n",
       "</div>"
      ],
      "text/plain": [
       "   AppointmentID  PatientID ClinicNM AppointmentDTS  AppointmentMonthNBR  \\\n",
       "1          11206          2        A         2/7/18                    2   \n",
       "2          12548          2        A         2/8/18                    2   \n",
       "3          12727          2        A         3/8/18                    3   \n",
       "4          86882          2        A        11/9/18                   11   \n",
       "5          95113          3        A       12/28/18                   12   \n",
       "\n",
       "   AppointmentWeekdayNBR  AppointmentHourNBR  AgeNBR SexFLG  HispanicFLG  ...  \\\n",
       "1                      4                  10      80      M            0  ...   \n",
       "2                      5                  16      80      M            0  ...   \n",
       "3                      5                  15      80      M            0  ...   \n",
       "4                      6                  16      80      M            0  ...   \n",
       "5                      6                  15      32      F            0  ...   \n",
       "\n",
       "   AppttoCheckoutNBR  CheckintoApptNBR  Arrived24NBR  Providers24CNT  \\\n",
       "1               49.0               1.0           2.0             1.0   \n",
       "2               49.0               1.0           2.0             1.0   \n",
       "3               48.0               7.0           3.0             1.0   \n",
       "4               47.0              13.0           3.0             1.0   \n",
       "5               45.0               2.0           3.0             3.0   \n",
       "\n",
       "  ThatProvider24NBR  NoshowRate24NBR  EdVisitsNBR  IpVisitsNBR  NoShowFLG  \\\n",
       "1               5.0              0.0            0            0          0   \n",
       "2               6.0              0.0            0            0          0   \n",
       "3               8.0              0.0            0            0          0   \n",
       "4              13.0              0.0            0            0          0   \n",
       "5              11.0              0.0            0            0          0   \n",
       "\n",
       "   CancelledLateFLG  \n",
       "1                 1  \n",
       "2                 0  \n",
       "3                 0  \n",
       "4                 0  \n",
       "5                 0  \n",
       "\n",
       "[5 rows x 34 columns]"
      ]
     },
     "execution_count": 74,
     "metadata": {},
     "output_type": "execute_result"
    }
   ],
   "source": [
    "showdf.head(5)"
   ]
  },
  {
   "cell_type": "code",
   "execution_count": 75,
   "metadata": {},
   "outputs": [
    {
     "data": {
      "text/plain": [
       "6952"
      ]
     },
     "execution_count": 75,
     "metadata": {},
     "output_type": "execute_result"
    }
   ],
   "source": [
    "# Drop rows if it has negative value either in AppttoCheckoutNBR or CheckintoCheckoutNBR in noShowDf\n",
    "# same as drop\n",
    "\n",
    "noShowDf = noShowDf[(noShowDf['AppttoCheckoutNBR'] >=0) &  (noShowDf['CheckintoCheckoutNBR'] >=0)]\n",
    "len(noShowDf)\n",
    "\n",
    "# indices = noShowDf[(noShowDf['AppttoCheckoutNBR'] <0) |  (noShowDf['CheckintoCheckoutNBR'] <0)].index\n",
    "# noShowDf.drop(indices, inplace=True)\n",
    "# noShowDf.index.size"
   ]
  },
  {
   "cell_type": "markdown",
   "metadata": {},
   "source": [
    "# Sampling Starts from here"
   ]
  },
  {
   "cell_type": "code",
   "execution_count": 76,
   "metadata": {},
   "outputs": [],
   "source": [
    "# Import packages\n",
    "from imblearn.over_sampling import SMOTE\n",
    "from sklearn.model_selection import train_test_split"
   ]
  },
  {
   "cell_type": "code",
   "execution_count": 77,
   "metadata": {},
   "outputs": [],
   "source": [
    "# Merging show and no show dataframe\n",
    "dataset = pd.concat([showdf, noShowDf], axis=0)"
   ]
  },
  {
   "cell_type": "code",
   "execution_count": 78,
   "metadata": {},
   "outputs": [
    {
     "data": {
      "text/html": [
       "<div>\n",
       "<style scoped>\n",
       "    .dataframe tbody tr th:only-of-type {\n",
       "        vertical-align: middle;\n",
       "    }\n",
       "\n",
       "    .dataframe tbody tr th {\n",
       "        vertical-align: top;\n",
       "    }\n",
       "\n",
       "    .dataframe thead th {\n",
       "        text-align: right;\n",
       "    }\n",
       "</style>\n",
       "<table border=\"1\" class=\"dataframe\">\n",
       "  <thead>\n",
       "    <tr style=\"text-align: right;\">\n",
       "      <th></th>\n",
       "      <th>AppointmentMonthNBR</th>\n",
       "      <th>AppointmentWeekdayNBR</th>\n",
       "      <th>AppointmentHourNBR</th>\n",
       "      <th>AgeNBR</th>\n",
       "      <th>HispanicFLG</th>\n",
       "      <th>SingleFLG</th>\n",
       "      <th>LivesInApartmentFLG</th>\n",
       "      <th>EmailFLG</th>\n",
       "      <th>ApptLagNBR</th>\n",
       "      <th>HypertensionFLG</th>\n",
       "      <th>...</th>\n",
       "      <th>Latearrivals24NBR</th>\n",
       "      <th>CheckintoCheckoutNBR</th>\n",
       "      <th>AppttoCheckoutNBR</th>\n",
       "      <th>CheckintoApptNBR</th>\n",
       "      <th>Arrived24NBR</th>\n",
       "      <th>Providers24CNT</th>\n",
       "      <th>ThatProvider24NBR</th>\n",
       "      <th>NoshowRate24NBR</th>\n",
       "      <th>EdVisitsNBR</th>\n",
       "      <th>IpVisitsNBR</th>\n",
       "    </tr>\n",
       "  </thead>\n",
       "  <tbody>\n",
       "    <tr>\n",
       "      <th>1</th>\n",
       "      <td>2</td>\n",
       "      <td>4</td>\n",
       "      <td>10</td>\n",
       "      <td>80</td>\n",
       "      <td>0</td>\n",
       "      <td>0</td>\n",
       "      <td>0</td>\n",
       "      <td>0</td>\n",
       "      <td>2</td>\n",
       "      <td>1</td>\n",
       "      <td>...</td>\n",
       "      <td>1.0</td>\n",
       "      <td>50.0</td>\n",
       "      <td>49.0</td>\n",
       "      <td>1.0</td>\n",
       "      <td>2.0</td>\n",
       "      <td>1.0</td>\n",
       "      <td>5.0</td>\n",
       "      <td>0.000000</td>\n",
       "      <td>0</td>\n",
       "      <td>0</td>\n",
       "    </tr>\n",
       "    <tr>\n",
       "      <th>2</th>\n",
       "      <td>2</td>\n",
       "      <td>5</td>\n",
       "      <td>16</td>\n",
       "      <td>80</td>\n",
       "      <td>0</td>\n",
       "      <td>0</td>\n",
       "      <td>0</td>\n",
       "      <td>0</td>\n",
       "      <td>0</td>\n",
       "      <td>1</td>\n",
       "      <td>...</td>\n",
       "      <td>1.0</td>\n",
       "      <td>50.0</td>\n",
       "      <td>49.0</td>\n",
       "      <td>1.0</td>\n",
       "      <td>2.0</td>\n",
       "      <td>1.0</td>\n",
       "      <td>6.0</td>\n",
       "      <td>0.000000</td>\n",
       "      <td>0</td>\n",
       "      <td>0</td>\n",
       "    </tr>\n",
       "    <tr>\n",
       "      <th>3</th>\n",
       "      <td>3</td>\n",
       "      <td>5</td>\n",
       "      <td>15</td>\n",
       "      <td>80</td>\n",
       "      <td>0</td>\n",
       "      <td>0</td>\n",
       "      <td>0</td>\n",
       "      <td>0</td>\n",
       "      <td>28</td>\n",
       "      <td>1</td>\n",
       "      <td>...</td>\n",
       "      <td>1.0</td>\n",
       "      <td>55.0</td>\n",
       "      <td>48.0</td>\n",
       "      <td>7.0</td>\n",
       "      <td>3.0</td>\n",
       "      <td>1.0</td>\n",
       "      <td>8.0</td>\n",
       "      <td>0.000000</td>\n",
       "      <td>0</td>\n",
       "      <td>0</td>\n",
       "    </tr>\n",
       "    <tr>\n",
       "      <th>4</th>\n",
       "      <td>11</td>\n",
       "      <td>6</td>\n",
       "      <td>16</td>\n",
       "      <td>80</td>\n",
       "      <td>0</td>\n",
       "      <td>0</td>\n",
       "      <td>0</td>\n",
       "      <td>0</td>\n",
       "      <td>0</td>\n",
       "      <td>1</td>\n",
       "      <td>...</td>\n",
       "      <td>0.0</td>\n",
       "      <td>61.0</td>\n",
       "      <td>47.0</td>\n",
       "      <td>13.0</td>\n",
       "      <td>3.0</td>\n",
       "      <td>1.0</td>\n",
       "      <td>13.0</td>\n",
       "      <td>0.000000</td>\n",
       "      <td>0</td>\n",
       "      <td>0</td>\n",
       "    </tr>\n",
       "    <tr>\n",
       "      <th>5</th>\n",
       "      <td>12</td>\n",
       "      <td>6</td>\n",
       "      <td>15</td>\n",
       "      <td>32</td>\n",
       "      <td>0</td>\n",
       "      <td>1</td>\n",
       "      <td>0</td>\n",
       "      <td>1</td>\n",
       "      <td>1</td>\n",
       "      <td>0</td>\n",
       "      <td>...</td>\n",
       "      <td>1.0</td>\n",
       "      <td>47.0</td>\n",
       "      <td>45.0</td>\n",
       "      <td>2.0</td>\n",
       "      <td>3.0</td>\n",
       "      <td>3.0</td>\n",
       "      <td>11.0</td>\n",
       "      <td>0.000000</td>\n",
       "      <td>0</td>\n",
       "      <td>0</td>\n",
       "    </tr>\n",
       "    <tr>\n",
       "      <th>...</th>\n",
       "      <td>...</td>\n",
       "      <td>...</td>\n",
       "      <td>...</td>\n",
       "      <td>...</td>\n",
       "      <td>...</td>\n",
       "      <td>...</td>\n",
       "      <td>...</td>\n",
       "      <td>...</td>\n",
       "      <td>...</td>\n",
       "      <td>...</td>\n",
       "      <td>...</td>\n",
       "      <td>...</td>\n",
       "      <td>...</td>\n",
       "      <td>...</td>\n",
       "      <td>...</td>\n",
       "      <td>...</td>\n",
       "      <td>...</td>\n",
       "      <td>...</td>\n",
       "      <td>...</td>\n",
       "      <td>...</td>\n",
       "      <td>...</td>\n",
       "    </tr>\n",
       "    <tr>\n",
       "      <th>95191</th>\n",
       "      <td>10</td>\n",
       "      <td>2</td>\n",
       "      <td>9</td>\n",
       "      <td>54</td>\n",
       "      <td>0</td>\n",
       "      <td>1</td>\n",
       "      <td>0</td>\n",
       "      <td>0</td>\n",
       "      <td>90</td>\n",
       "      <td>1</td>\n",
       "      <td>...</td>\n",
       "      <td>7.0</td>\n",
       "      <td>50.0</td>\n",
       "      <td>44.0</td>\n",
       "      <td>14.0</td>\n",
       "      <td>23.0</td>\n",
       "      <td>12.0</td>\n",
       "      <td>6.0</td>\n",
       "      <td>0.000000</td>\n",
       "      <td>2</td>\n",
       "      <td>0</td>\n",
       "    </tr>\n",
       "    <tr>\n",
       "      <th>95192</th>\n",
       "      <td>12</td>\n",
       "      <td>3</td>\n",
       "      <td>8</td>\n",
       "      <td>54</td>\n",
       "      <td>0</td>\n",
       "      <td>1</td>\n",
       "      <td>0</td>\n",
       "      <td>0</td>\n",
       "      <td>1</td>\n",
       "      <td>1</td>\n",
       "      <td>...</td>\n",
       "      <td>8.0</td>\n",
       "      <td>44.0</td>\n",
       "      <td>38.0</td>\n",
       "      <td>13.0</td>\n",
       "      <td>25.0</td>\n",
       "      <td>12.0</td>\n",
       "      <td>8.0</td>\n",
       "      <td>0.038461</td>\n",
       "      <td>2</td>\n",
       "      <td>0</td>\n",
       "    </tr>\n",
       "    <tr>\n",
       "      <th>95197</th>\n",
       "      <td>5</td>\n",
       "      <td>3</td>\n",
       "      <td>11</td>\n",
       "      <td>36</td>\n",
       "      <td>0</td>\n",
       "      <td>1</td>\n",
       "      <td>0</td>\n",
       "      <td>0</td>\n",
       "      <td>4</td>\n",
       "      <td>0</td>\n",
       "      <td>...</td>\n",
       "      <td>4.0</td>\n",
       "      <td>47.0</td>\n",
       "      <td>64.0</td>\n",
       "      <td>-16.0</td>\n",
       "      <td>13.0</td>\n",
       "      <td>9.0</td>\n",
       "      <td>0.0</td>\n",
       "      <td>0.235294</td>\n",
       "      <td>0</td>\n",
       "      <td>0</td>\n",
       "    </tr>\n",
       "    <tr>\n",
       "      <th>95204</th>\n",
       "      <td>10</td>\n",
       "      <td>3</td>\n",
       "      <td>8</td>\n",
       "      <td>26</td>\n",
       "      <td>0</td>\n",
       "      <td>1</td>\n",
       "      <td>0</td>\n",
       "      <td>0</td>\n",
       "      <td>183</td>\n",
       "      <td>0</td>\n",
       "      <td>...</td>\n",
       "      <td>0.0</td>\n",
       "      <td>22.0</td>\n",
       "      <td>19.0</td>\n",
       "      <td>2.0</td>\n",
       "      <td>2.0</td>\n",
       "      <td>1.0</td>\n",
       "      <td>8.0</td>\n",
       "      <td>0.000000</td>\n",
       "      <td>0</td>\n",
       "      <td>0</td>\n",
       "    </tr>\n",
       "    <tr>\n",
       "      <th>95217</th>\n",
       "      <td>10</td>\n",
       "      <td>6</td>\n",
       "      <td>8</td>\n",
       "      <td>38</td>\n",
       "      <td>0</td>\n",
       "      <td>0</td>\n",
       "      <td>1</td>\n",
       "      <td>0</td>\n",
       "      <td>1</td>\n",
       "      <td>0</td>\n",
       "      <td>...</td>\n",
       "      <td>0.0</td>\n",
       "      <td>50.0</td>\n",
       "      <td>44.0</td>\n",
       "      <td>6.0</td>\n",
       "      <td>4.0</td>\n",
       "      <td>2.0</td>\n",
       "      <td>0.0</td>\n",
       "      <td>0.000000</td>\n",
       "      <td>0</td>\n",
       "      <td>0</td>\n",
       "    </tr>\n",
       "  </tbody>\n",
       "</table>\n",
       "<p>78467 rows × 26 columns</p>\n",
       "</div>"
      ],
      "text/plain": [
       "       AppointmentMonthNBR  AppointmentWeekdayNBR  AppointmentHourNBR  AgeNBR  \\\n",
       "1                        2                      4                  10      80   \n",
       "2                        2                      5                  16      80   \n",
       "3                        3                      5                  15      80   \n",
       "4                       11                      6                  16      80   \n",
       "5                       12                      6                  15      32   \n",
       "...                    ...                    ...                 ...     ...   \n",
       "95191                   10                      2                   9      54   \n",
       "95192                   12                      3                   8      54   \n",
       "95197                    5                      3                  11      36   \n",
       "95204                   10                      3                   8      26   \n",
       "95217                   10                      6                   8      38   \n",
       "\n",
       "       HispanicFLG  SingleFLG  LivesInApartmentFLG  EmailFLG  ApptLagNBR  \\\n",
       "1                0          0                    0         0           2   \n",
       "2                0          0                    0         0           0   \n",
       "3                0          0                    0         0          28   \n",
       "4                0          0                    0         0           0   \n",
       "5                0          1                    0         1           1   \n",
       "...            ...        ...                  ...       ...         ...   \n",
       "95191            0          1                    0         0          90   \n",
       "95192            0          1                    0         0           1   \n",
       "95197            0          1                    0         0           4   \n",
       "95204            0          1                    0         0         183   \n",
       "95217            0          0                    1         0           1   \n",
       "\n",
       "       HypertensionFLG  ...  Latearrivals24NBR  CheckintoCheckoutNBR  \\\n",
       "1                    1  ...                1.0                  50.0   \n",
       "2                    1  ...                1.0                  50.0   \n",
       "3                    1  ...                1.0                  55.0   \n",
       "4                    1  ...                0.0                  61.0   \n",
       "5                    0  ...                1.0                  47.0   \n",
       "...                ...  ...                ...                   ...   \n",
       "95191                1  ...                7.0                  50.0   \n",
       "95192                1  ...                8.0                  44.0   \n",
       "95197                0  ...                4.0                  47.0   \n",
       "95204                0  ...                0.0                  22.0   \n",
       "95217                0  ...                0.0                  50.0   \n",
       "\n",
       "       AppttoCheckoutNBR  CheckintoApptNBR  Arrived24NBR  Providers24CNT  \\\n",
       "1                   49.0               1.0           2.0             1.0   \n",
       "2                   49.0               1.0           2.0             1.0   \n",
       "3                   48.0               7.0           3.0             1.0   \n",
       "4                   47.0              13.0           3.0             1.0   \n",
       "5                   45.0               2.0           3.0             3.0   \n",
       "...                  ...               ...           ...             ...   \n",
       "95191               44.0              14.0          23.0            12.0   \n",
       "95192               38.0              13.0          25.0            12.0   \n",
       "95197               64.0             -16.0          13.0             9.0   \n",
       "95204               19.0               2.0           2.0             1.0   \n",
       "95217               44.0               6.0           4.0             2.0   \n",
       "\n",
       "       ThatProvider24NBR  NoshowRate24NBR  EdVisitsNBR  IpVisitsNBR  \n",
       "1                    5.0         0.000000            0            0  \n",
       "2                    6.0         0.000000            0            0  \n",
       "3                    8.0         0.000000            0            0  \n",
       "4                   13.0         0.000000            0            0  \n",
       "5                   11.0         0.000000            0            0  \n",
       "...                  ...              ...          ...          ...  \n",
       "95191                6.0         0.000000            2            0  \n",
       "95192                8.0         0.038461            2            0  \n",
       "95197                0.0         0.235294            0            0  \n",
       "95204                8.0         0.000000            0            0  \n",
       "95217                0.0         0.000000            0            0  \n",
       "\n",
       "[78467 rows x 26 columns]"
      ]
     },
     "execution_count": 78,
     "metadata": {},
     "output_type": "execute_result"
    }
   ],
   "source": [
    "# Prediction class\n",
    "y = dataset.NoShowFLG\n",
    "# Drop non numeric data and the noShowFLG fot features\n",
    "X = dataset.drop(columns=['AppointmentID','PatientID','NoShowFLG','ClinicNM','AppointmentDTS','SexFLG','InsuranceDSC','CancelledLateFLG'],axis=1)\n",
    "X"
   ]
  },
  {
   "cell_type": "code",
   "execution_count": 79,
   "metadata": {},
   "outputs": [
    {
     "data": {
      "text/plain": [
       "(58850, 26)"
      ]
     },
     "execution_count": 79,
     "metadata": {},
     "output_type": "execute_result"
    }
   ],
   "source": [
    "# Splitting the data to train and test data\n",
    "X_train, X_test, y_train, y_test = train_test_split(X, y, test_size=0.25, random_state=50)\n",
    "X_train.shape"
   ]
  },
  {
   "cell_type": "markdown",
   "metadata": {},
   "source": [
    "# Oversampling Data "
   ]
  },
  {
   "cell_type": "code",
   "execution_count": 80,
   "metadata": {},
   "outputs": [
    {
     "data": {
      "text/plain": [
       "(107232, 26)"
      ]
     },
     "execution_count": 80,
     "metadata": {},
     "output_type": "execute_result"
    }
   ],
   "source": [
    "from imblearn.over_sampling import RandomOverSampler\n",
    "ros = RandomOverSampler(random_state=50)\n",
    "X_resampled, y_resampled = ros.fit_resample(X_train, y_train)\n",
    "X_resampled.shape"
   ]
  },
  {
   "cell_type": "code",
   "execution_count": 81,
   "metadata": {},
   "outputs": [
    {
     "data": {
      "text/plain": [
       "NoShowFLG\n",
       "0    53616\n",
       "1    53616\n",
       "Name: NoShowFLG, dtype: int64"
      ]
     },
     "execution_count": 81,
     "metadata": {},
     "output_type": "execute_result"
    }
   ],
   "source": [
    "y_resampled.groupby(y_resampled).count()"
   ]
  },
  {
   "cell_type": "markdown",
   "metadata": {},
   "source": [
    "# Random Forest algorithm "
   ]
  },
  {
   "cell_type": "code",
   "execution_count": 82,
   "metadata": {},
   "outputs": [],
   "source": [
    "# Import the random forest algorithmn\n",
    "from sklearn.ensemble import RandomForestClassifier\n",
    "clf = RandomForestClassifier(max_depth=2 ,random_state=50)\n",
    "# Train the model on training data\n",
    "clf.fit(X_resampled, y_resampled);"
   ]
  },
  {
   "cell_type": "code",
   "execution_count": 83,
   "metadata": {},
   "outputs": [],
   "source": [
    "# Use the forest's predict method on the test data\n",
    "predictions = clf.predict(X_test)"
   ]
  },
  {
   "cell_type": "code",
   "execution_count": 84,
   "metadata": {},
   "outputs": [
    {
     "name": "stdout",
     "output_type": "stream",
     "text": [
      "71.64194321251975 \n",
      "\n",
      "0.2634714682907454 \n",
      "\n",
      "0.5791618160651921 \n",
      "\n"
     ]
    }
   ],
   "source": [
    "from sklearn.metrics import accuracy_score, f1_score, recall_score\n",
    "print(accuracy_score(y_test, predictions)*100,'\\n')\n",
    "# f1 score\n",
    "print(f1_score(y_test, predictions),'\\n')\n",
    "# recall score    \n",
    "print(recall_score(y_test, predictions),'\\n')"
   ]
  },
  {
   "cell_type": "code",
   "execution_count": 85,
   "metadata": {},
   "outputs": [
    {
     "data": {
      "image/png": "[encoded data removed]",
      "text/plain": [
       "<Figure size 432x288 with 2 Axes>"
      ]
     },
     "metadata": {
      "needs_background": "light"
     },
     "output_type": "display_data"
    }
   ],
   "source": [
    "from sklearn.metrics import plot_confusion_matrix\n",
    "import matplotlib.pyplot as plt\n",
    "plot_confusion_matrix(clf, X_test, y_test) \n",
    "plt.show()"
   ]
  },
  {
   "cell_type": "code",
   "execution_count": 86,
   "metadata": {},
   "outputs": [
    {
     "data": {
      "text/plain": [
       "'NoshowRate24NBR'"
      ]
     },
     "execution_count": 86,
     "metadata": {},
     "output_type": "execute_result"
    }
   ],
   "source": [
    "# Most important feature\n",
    "X.columns[np.argmax(clf.feature_importances_)]"
   ]
  },
  {
   "cell_type": "markdown",
   "metadata": {},
   "source": [
    "# Check the parameters accuracy"
   ]
  },
  {
   "cell_type": "code",
   "execution_count": 88,
   "metadata": {},
   "outputs": [
    {
     "data": {
      "image/png": "[encoded data removed]",
      "text/plain": [
       "<Figure size 432x288 with 2 Axes>"
      ]
     },
     "metadata": {
      "needs_background": "light"
     },
     "output_type": "display_data"
    },
    {
     "name": "stdout",
     "output_type": "stream",
     "text": [
      "73.08966712545242\n",
      "20 gini auto 9 2 False 97\n"
     ]
    },
    {
     "data": {
      "image/png": "[encoded data removed]",
      "text/plain": [
       "<Figure size 432x288 with 2 Axes>"
      ]
     },
     "metadata": {
      "needs_background": "light"
     },
     "output_type": "display_data"
    },
    {
     "name": "stdout",
     "output_type": "stream",
     "text": [
      "87.61788244889637\n",
      "13 entropy auto 19 3 False 90\n"
     ]
    },
    {
     "data": {
      "image/png": "[encoded data removed]",
      "text/plain": [
       "<Figure size 432x288 with 2 Axes>"
      ]
     },
     "metadata": {
      "needs_background": "light"
     },
     "output_type": "display_data"
    },
    {
     "name": "stdout",
     "output_type": "stream",
     "text": [
      "74.6291481877963\n",
      "3 entropy sqrt 12 2 False 2\n"
     ]
    },
    {
     "data": {
      "image/png": "[encoded data removed]",
      "text/plain": [
       "<Figure size 432x288 with 2 Axes>"
      ]
     },
     "metadata": {
      "needs_background": "light"
     },
     "output_type": "display_data"
    },
    {
     "name": "stdout",
     "output_type": "stream",
     "text": [
      "67.9053881837182\n",
      "15 gini None 3 3 False 87\n"
     ]
    },
    {
     "data": {
      "image/png": "[encoded data removed]",
      "text/plain": [
       "<Figure size 432x288 with 2 Axes>"
      ]
     },
     "metadata": {
      "needs_background": "light"
     },
     "output_type": "display_data"
    },
    {
     "name": "stdout",
     "output_type": "stream",
     "text": [
      "71.03532650252332\n",
      "18 gini auto 6 2 True 58\n"
     ]
    },
    {
     "data": {
      "image/png": "[encoded data removed]",
      "text/plain": [
       "<Figure size 432x288 with 2 Axes>"
      ]
     },
     "metadata": {
      "needs_background": "light"
     },
     "output_type": "display_data"
    },
    {
     "name": "stdout",
     "output_type": "stream",
     "text": [
      "70.06677881429373\n",
      "16 gini auto 6 4 True 90\n"
     ]
    },
    {
     "data": {
      "image/png": "[encoded data removed]",
      "text/plain": [
       "<Figure size 432x288 with 2 Axes>"
      ]
     },
     "metadata": {
      "needs_background": "light"
     },
     "output_type": "display_data"
    },
    {
     "name": "stdout",
     "output_type": "stream",
     "text": [
      "71.77448131722485\n",
      "17 entropy log2 8 2 True 7\n"
     ]
    },
    {
     "data": {
      "image/png": "[encoded data removed]",
      "text/plain": [
       "<Figure size 432x288 with 2 Axes>"
      ]
     },
     "metadata": {
      "needs_background": "light"
     },
     "output_type": "display_data"
    },
    {
     "name": "stdout",
     "output_type": "stream",
     "text": [
      "68.93000968547688\n",
      "6 gini log2 3 3 True 39\n"
     ]
    },
    {
     "data": {
      "image/png": "[encoded data removed]",
      "text/plain": [
       "<Figure size 432x288 with 2 Axes>"
      ]
     },
     "metadata": {
      "needs_background": "light"
     },
     "output_type": "display_data"
    },
    {
     "name": "stdout",
     "output_type": "stream",
     "text": [
      "83.33078452362747\n",
      "6 gini None 16 2 False 27\n"
     ]
    },
    {
     "data": {
      "image/png": "[encoded data removed]",
      "text/plain": [
       "<Figure size 432x288 with 2 Axes>"
      ]
     },
     "metadata": {
      "needs_background": "light"
     },
     "output_type": "display_data"
    },
    {
     "name": "stdout",
     "output_type": "stream",
     "text": [
      "83.2033440383341\n",
      "3 entropy sqrt 18 3 True 54\n"
     ]
    },
    {
     "data": {
      "image/png": "[encoded data removed]",
      "text/plain": [
       "<Figure size 432x288 with 2 Axes>"
      ]
     },
     "metadata": {
      "needs_background": "light"
     },
     "output_type": "display_data"
    },
    {
     "name": "stdout",
     "output_type": "stream",
     "text": [
      "79.51266758423816\n",
      "8 gini None 13 4 True 54\n"
     ]
    },
    {
     "data": {
      "image/png": "[encoded data removed]",
      "text/plain": [
       "<Figure size 432x288 with 2 Axes>"
      ]
     },
     "metadata": {
      "needs_background": "light"
     },
     "output_type": "display_data"
    },
    {
     "name": "stdout",
     "output_type": "stream",
     "text": [
      "71.92231228016517\n",
      "20 entropy sqrt 8 3 True 16\n"
     ]
    },
    {
     "data": {
      "image/png": "[encoded data removed]",
      "text/plain": [
       "<Figure size 432x288 with 2 Axes>"
      ]
     },
     "metadata": {
      "needs_background": "light"
     },
     "output_type": "display_data"
    },
    {
     "name": "stdout",
     "output_type": "stream",
     "text": [
      "71.56547892134373\n",
      "20 gini log2 6 2 False 59\n"
     ]
    },
    {
     "data": {
      "image/png": "[encoded data removed]",
      "text/plain": [
       "<Figure size 432x288 with 2 Axes>"
      ]
     },
     "metadata": {
      "needs_background": "light"
     },
     "output_type": "display_data"
    },
    {
     "name": "stdout",
     "output_type": "stream",
     "text": [
      "69.28684304429831\n",
      "2 gini None 3 4 True 3\n"
     ]
    },
    {
     "data": {
      "image/png": "[encoded data removed]",
      "text/plain": [
       "<Figure size 432x288 with 2 Axes>"
      ]
     },
     "metadata": {
      "needs_background": "light"
     },
     "output_type": "display_data"
    },
    {
     "name": "stdout",
     "output_type": "stream",
     "text": [
      "87.05714431360555\n",
      "2 entropy sqrt 20 2 True 33\n"
     ]
    },
    {
     "data": {
      "image/png": "[encoded data removed]",
      "text/plain": [
       "<Figure size 432x288 with 2 Axes>"
      ]
     },
     "metadata": {
      "needs_background": "light"
     },
     "output_type": "display_data"
    },
    {
     "name": "stdout",
     "output_type": "stream",
     "text": [
      "72.07014324310546\n",
      "10 gini log2 8 2 False 83\n"
     ]
    },
    {
     "data": {
      "image/png": "[encoded data removed]",
      "text/plain": [
       "<Figure size 432x288 with 2 Axes>"
      ]
     },
     "metadata": {
      "needs_background": "light"
     },
     "output_type": "display_data"
    },
    {
     "name": "stdout",
     "output_type": "stream",
     "text": [
      "73.03359331192333\n",
      "8 gini auto 9 3 False 21\n"
     ]
    },
    {
     "data": {
      "image/png": "[encoded data removed]",
      "text/plain": [
       "<Figure size 432x288 with 2 Axes>"
      ]
     },
     "metadata": {
      "needs_background": "light"
     },
     "output_type": "display_data"
    },
    {
     "name": "stdout",
     "output_type": "stream",
     "text": [
      "67.29877147372177\n",
      "3 entropy sqrt 5 2 True 63\n"
     ]
    },
    {
     "data": {
      "image/png": "[encoded data removed]",
      "text/plain": [
       "<Figure size 432x288 with 2 Axes>"
      ]
     },
     "metadata": {
      "needs_background": "light"
     },
     "output_type": "display_data"
    },
    {
     "name": "stdout",
     "output_type": "stream",
     "text": [
      "68.49671203547943\n",
      "13 gini auto 5 3 True 19\n"
     ]
    },
    {
     "data": {
      "image/png": "[encoded data removed]",
      "text/plain": [
       "<Figure size 432x288 with 2 Axes>"
      ]
     },
     "metadata": {
      "needs_background": "light"
     },
     "output_type": "display_data"
    },
    {
     "name": "stdout",
     "output_type": "stream",
     "text": [
      "82.69867971657237\n",
      "14 gini auto 15 4 False 82\n"
     ]
    },
    {
     "data": {
      "image/png": "[encoded data removed]",
      "text/plain": [
       "<Figure size 432x288 with 2 Axes>"
      ]
     },
     "metadata": {
      "needs_background": "light"
     },
     "output_type": "display_data"
    },
    {
     "name": "stdout",
     "output_type": "stream",
     "text": [
      "86.70031095478411\n",
      "9 gini auto 19 4 True 14\n"
     ]
    },
    {
     "data": {
      "image/png": "[encoded data removed]",
      "text/plain": [
       "<Figure size 432x288 with 2 Axes>"
      ]
     },
     "metadata": {
      "needs_background": "light"
     },
     "output_type": "display_data"
    },
    {
     "name": "stdout",
     "output_type": "stream",
     "text": [
      "70.04638833664679\n",
      "9 entropy sqrt 5 3 False 79\n"
     ]
    },
    {
     "data": {
      "image/png": "[encoded data removed]",
      "text/plain": [
       "<Figure size 432x288 with 2 Axes>"
      ]
     },
     "metadata": {
      "needs_background": "light"
     },
     "output_type": "display_data"
    },
    {
     "name": "stdout",
     "output_type": "stream",
     "text": [
      "73.3394504766274\n",
      "16 entropy auto 1 2 True 49\n"
     ]
    },
    {
     "data": {
      "image/png": "[encoded data removed]",
      "text/plain": [
       "<Figure size 432x288 with 2 Axes>"
      ]
     },
     "metadata": {
      "needs_background": "light"
     },
     "output_type": "display_data"
    },
    {
     "name": "stdout",
     "output_type": "stream",
     "text": [
      "87.43946576948565\n",
      "15 entropy log2 19 2 False 3\n"
     ]
    },
    {
     "data": {
      "image/png": "[encoded data removed]",
      "text/plain": [
       "<Figure size 432x288 with 2 Axes>"
      ]
     },
     "metadata": {
      "needs_background": "light"
     },
     "output_type": "display_data"
    },
    {
     "name": "stdout",
     "output_type": "stream",
     "text": [
      "83.8048631289188\n",
      "15 entropy log2 16 3 False 46\n"
     ]
    },
    {
     "data": {
      "image/png": "[encoded data removed]",
      "text/plain": [
       "<Figure size 432x288 with 2 Axes>"
      ]
     },
     "metadata": {
      "needs_background": "light"
     },
     "output_type": "display_data"
    },
    {
     "name": "stdout",
     "output_type": "stream",
     "text": [
      "75.96982209308253\n",
      "3 gini sqrt 12 3 True 62\n"
     ]
    },
    {
     "data": {
      "image/png": "[encoded data removed]",
      "text/plain": [
       "<Figure size 432x288 with 2 Axes>"
      ]
     },
     "metadata": {
      "needs_background": "light"
     },
     "output_type": "display_data"
    },
    {
     "name": "stdout",
     "output_type": "stream",
     "text": [
      "70.98944792781771\n",
      "5 entropy auto 6 3 True 49\n"
     ]
    },
    {
     "data": {
      "image/png": "[encoded data removed]",
      "text/plain": [
       "<Figure size 432x288 with 2 Axes>"
      ]
     },
     "metadata": {
      "needs_background": "light"
     },
     "output_type": "display_data"
    },
    {
     "name": "stdout",
     "output_type": "stream",
     "text": [
      "80.34867716776265\n",
      "9 gini sqrt 14 3 False 78\n"
     ]
    },
    {
     "data": {
      "image/png": "[encoded data removed]",
      "text/plain": [
       "<Figure size 432x288 with 2 Axes>"
      ]
     },
     "metadata": {
      "needs_background": "light"
     },
     "output_type": "display_data"
    },
    {
     "name": "stdout",
     "output_type": "stream",
     "text": [
      "77.11678646072284\n",
      "9 entropy log2 12 4 False 39\n"
     ]
    },
    {
     "data": {
      "image/png": "[encoded data removed]",
      "text/plain": [
       "<Figure size 432x288 with 2 Axes>"
      ]
     },
     "metadata": {
      "needs_background": "light"
     },
     "output_type": "display_data"
    },
    {
     "name": "stdout",
     "output_type": "stream",
     "text": [
      "82.79553448539532\n",
      "16 entropy auto 15 3 False 48\n"
     ]
    },
    {
     "data": {
      "image/png": "[encoded data removed]",
      "text/plain": [
       "<Figure size 432x288 with 2 Axes>"
      ]
     },
     "metadata": {
      "needs_background": "light"
     },
     "output_type": "display_data"
    },
    {
     "name": "stdout",
     "output_type": "stream",
     "text": [
      "78.82448896365398\n",
      "4 gini auto 2 3 False 42\n"
     ]
    },
    {
     "data": {
      "image/png": "[encoded data removed]",
      "text/plain": [
       "<Figure size 432x288 with 2 Axes>"
      ]
     },
     "metadata": {
      "needs_background": "light"
     },
     "output_type": "display_data"
    },
    {
     "name": "stdout",
     "output_type": "stream",
     "text": [
      "79.49227710659123\n",
      "5 entropy log2 13 4 False 93\n"
     ]
    },
    {
     "data": {
      "image/png": "[encoded data removed]",
      "text/plain": [
       "<Figure size 432x288 with 2 Axes>"
      ]
     },
     "metadata": {
      "needs_background": "light"
     },
     "output_type": "display_data"
    },
    {
     "name": "stdout",
     "output_type": "stream",
     "text": [
      "67.2732833766631\n",
      "3 gini auto 5 2 False 26\n"
     ]
    },
    {
     "data": {
      "image/png": "[encoded data removed]",
      "text/plain": [
       "<Figure size 432x288 with 2 Axes>"
      ]
     },
     "metadata": {
      "needs_background": "light"
     },
     "output_type": "display_data"
    },
    {
     "name": "stdout",
     "output_type": "stream",
     "text": [
      "80.12438191364633\n",
      "15 entropy log2 13 2 False 42\n"
     ]
    },
    {
     "data": {
      "image/png": "[encoded data removed]",
      "text/plain": [
       "<Figure size 432x288 with 2 Axes>"
      ]
     },
     "metadata": {
      "needs_background": "light"
     },
     "output_type": "display_data"
    },
    {
     "name": "stdout",
     "output_type": "stream",
     "text": [
      "71.35647652546261\n",
      "8 entropy auto 7 2 True 20\n"
     ]
    },
    {
     "data": {
      "image/png": "[encoded data removed]",
      "text/plain": [
       "<Figure size 432x288 with 2 Axes>"
      ]
     },
     "metadata": {
      "needs_background": "light"
     },
     "output_type": "display_data"
    },
    {
     "name": "stdout",
     "output_type": "stream",
     "text": [
      "82.97904878421777\n",
      "11 entropy None 15 2 False 13\n"
     ]
    },
    {
     "data": {
      "image/png": "[encoded data removed]",
      "text/plain": [
       "<Figure size 432x288 with 2 Axes>"
      ]
     },
     "metadata": {
      "needs_background": "light"
     },
     "output_type": "display_data"
    },
    {
     "name": "stdout",
     "output_type": "stream",
     "text": [
      "68.389662027833\n",
      "13 entropy log2 3 3 True 20\n"
     ]
    },
    {
     "data": {
      "image/png": "[encoded data removed]",
      "text/plain": [
       "<Figure size 432x288 with 2 Axes>"
      ]
     },
     "metadata": {
      "needs_background": "light"
     },
     "output_type": "display_data"
    },
    {
     "name": "stdout",
     "output_type": "stream",
     "text": [
      "69.7711168884131\n",
      "8 gini sqrt 6 2 False 72\n"
     ]
    },
    {
     "data": {
      "image/png": "[encoded data removed]",
      "text/plain": [
       "<Figure size 432x288 with 2 Axes>"
      ]
     },
     "metadata": {
      "needs_background": "light"
     },
     "output_type": "display_data"
    },
    {
     "name": "stdout",
     "output_type": "stream",
     "text": [
      "71.36667176428608\n",
      "6 entropy auto 6 2 True 76\n"
     ]
    }
   ],
   "source": [
    "from random import randint\n",
    "import csv\n",
    "from sklearn.ensemble import RandomForestClassifier\n",
    "from sklearn.metrics import accuracy_score, f1_score, recall_score\n",
    "from sklearn.metrics import plot_confusion_matrix\n",
    "import matplotlib.pyplot as plt\n",
    "\n",
    "# Writting header to the parameter file\n",
    "head = ['n_estimators','criterion','max_features','max_depth','min_samples_split','bootstrap','random_state','accuracy_score','f1_score','recall_score']\n",
    "myFile = open('parameters.csv', 'a', newline='')\n",
    "with myFile:\n",
    "    writer = csv.writer(myFile)\n",
    "    writer.writerow(head)\n",
    "    del head\n",
    "myFile.close()               \n",
    "\n",
    "for i in range(1,40):\n",
    "    arr = []\n",
    "    noEstimaters = randint(1,20) # No of estimators default = 10\n",
    "    criter = ['gini','entropy'] #criterion\n",
    "    maxFeat = ['auto','sqrt','log2',None] #auto number of features default\n",
    "    maxDepth = randint(1,20) # Maximum depth of the tree\n",
    "    minSamplesSplit = randint(2,4) # Default = 2\n",
    "    bootStrap = [True,False]\n",
    "    randomState = randint(1,100)\n",
    "    # print(noEstimaters,criter[randint(0,len(criter)-1)],maxFeat[randint(0,len(maxFeat)-1)],maxDepth,minSamplesSplit,bootStrap[randint(0,len(bootStrap)-1)],randomState)\n",
    "    arr = [noEstimaters,criter[randint(0,len(criter)-1)],maxFeat[randint(0,len(maxFeat)-1)],maxDepth,minSamplesSplit,bootStrap[randint(0,len(bootStrap)-1)],randomState]\n",
    "    \n",
    "    # Training and testing start here\n",
    "    clf = RandomForestClassifier(n_estimators=noEstimaters,criterion=criter[randint(0,len(criter)-1)],max_features=maxFeat[randint(0,len(maxFeat)-1)],max_depth=maxDepth,min_samples_split=minSamplesSplit,bootstrap=bootStrap,random_state=randomState)\n",
    "    # Train the model on training data\n",
    "    clf.fit(X_resampled, y_resampled);\n",
    "    \n",
    "    # Use the forest's predict method on the test data\n",
    "    predictions = clf.predict(X_test)\n",
    "    \n",
    "    # Accuracy of the model\n",
    "    arr.append(accuracy_score(y_test, predictions)*100)\n",
    "    # f1 score\n",
    "    arr.append(f1_score(y_test, predictions))\n",
    "    # recall score\n",
    "    arr.append(recall_score(y_test, predictions))\n",
    "    plot_confusion_matrix(clf, X_test, y_test) \n",
    "    plt.show()\n",
    "    print(accuracy_score(y_test, predictions)*100)\n",
    "    print(noEstimaters,criter[randint(0,len(criter)-1)],maxFeat[randint(0,len(maxFeat)-1)],maxDepth,minSamplesSplit,bootStrap[randint(0,len(bootStrap)-1)],randomState)\n",
    "    \n",
    "    myFile = open('parameters.csv', 'a', newline='')\n",
    "    with myFile:\n",
    "        writer = csv.writer(myFile)\n",
    "        writer.writerow(arr)\n",
    "        del arr"
   ]
  },
  {
   "cell_type": "code",
   "execution_count": null,
   "metadata": {},
   "outputs": [],
   "source": []
  }
 ],
 "metadata": {
  "celltoolbar": "Raw Cell Format",
  "kernelspec": {
   "display_name": "Python 3",
   "language": "python",
   "name": "python3"
  },
  "language_info": {
   "codemirror_mode": {
    "name": "ipython",
    "version": 3
   },
   "file_extension": ".py",
   "mimetype": "text/x-python",
   "name": "python",
   "nbconvert_exporter": "python",
   "pygments_lexer": "ipython3",
   "version": "3.8.3"
  }
 },
 "nbformat": 4,
 "nbformat_minor": 4
}
